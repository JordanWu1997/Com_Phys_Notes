{
 "cells": [
  {
   "cell_type": "code",
   "execution_count": 3,
   "metadata": {
    "ExecuteTime": {
     "end_time": "2019-04-19T12:56:30.112525Z",
     "start_time": "2019-04-19T12:56:29.928621Z"
    }
   },
   "outputs": [],
   "source": [
    "import numpy as np\n",
    "import matplotlib.pyplot as plt"
   ]
  },
  {
   "cell_type": "code",
   "execution_count": 15,
   "metadata": {
    "ExecuteTime": {
     "end_time": "2019-04-19T13:07:25.015864Z",
     "start_time": "2019-04-19T13:07:24.919014Z"
    },
    "code_folding": [
     4,
     16,
     32,
     43,
     51,
     58,
     83
    ]
   },
   "outputs": [],
   "source": [
    "class Ising_model:\n",
    "\n",
    "    kb = 1  #1.38064852e-23\n",
    "    \n",
    "    def __init__(self, L, T):\n",
    "        self.L = L\n",
    "        self.T = T\n",
    "        spin_conf = np.zeros((L, L))\n",
    "        for i in range(L):\n",
    "            for j in range(L):\n",
    "                spin = np.random.randint(-1, 2)\n",
    "                while spin == 0:\n",
    "                    spin = np.random.randint(-1, 2)\n",
    "                spin_conf[i][j] = spin\n",
    "        self.s = spin_conf\n",
    "\n",
    "    def visual(self, verbose=True):\n",
    "        L = self.L\n",
    "        demo = np.zeros(np.shape(self.s), dtype=str)\n",
    "        num_up, num_down = 0, 0\n",
    "        for i in range(L):\n",
    "            for j in range(L):\n",
    "                if self.s[i][j] == 1.0:\n",
    "                    demo[i][j] = '↑'\n",
    "                    num_up += 1\n",
    "                elif self.s[i][j] == -1.0:\n",
    "                    demo[i][j] = '↓'\n",
    "                    num_down += 1\n",
    "        print(demo)\n",
    "        if verbose == True:\n",
    "            print('Spin_up=%i ;Spin_down=%i' % (num_up, num_down))\n",
    "\n",
    "    def energy(self):\n",
    "        L = self.L\n",
    "        E = 0\n",
    "        J = 1\n",
    "        for i in range(L):\n",
    "            for j in range(L):\n",
    "                E += self.s[i, j] * (self.s[\n",
    "                    (i + 1) % L, j] + self.s[i, (j + 1) % L])\n",
    "        energy = -J * E\n",
    "        return energy\n",
    "\n",
    "    def magnet(self):\n",
    "        L = self.L\n",
    "        M = 0.0\n",
    "        for i in range(L):\n",
    "            for j in range(L):\n",
    "                M += self.s[i, j]\n",
    "        return M\n",
    "\n",
    "    def dE(self, i, j):\n",
    "        L = self.L\n",
    "        NB = self.s[(i + 1) % L, j] + self.s[i, (j + 1) % L] + self.s[\n",
    "            (i - 1) % L, j] + self.s[i, (j - 1) % L]\n",
    "        dE = 2 * self.s[i, j] * NB\n",
    "        return dE\n",
    "\n",
    "    def mc_method_sq(self, verbose1=False, verbose2=False):\n",
    "        T = self.T\n",
    "        kb = self.kb\n",
    "        L = self.L\n",
    "        accept = 0\n",
    "        beta = 1 / T / kb\n",
    "        for i in range(L):\n",
    "            for j in range(L):\n",
    "                if self.dE(i, j) < 0:\n",
    "                    self.s[i][j] *= -1\n",
    "                    accept += 1\n",
    "                elif self.dE(i, j) >= 0:\n",
    "                    prob = np.exp(-beta * self.dE(i, j))\n",
    "                    if np.random.random() < prob:\n",
    "                        self.s[i][j] *= -1\n",
    "                        accept += 1\n",
    "                if verbose1 == True:\n",
    "                    print('\\n[%i, %i], dE=%.1f' % (i, j, self.dE(i, j)))\n",
    "                    self.visual()\n",
    "        if verbose2 == True:\n",
    "            print('L=%i, T=%i, Accept_rate=%.2f' % (L, T,\n",
    "                                                    (100 * accept / L**2)) +\n",
    "                  '%')\n",
    "        return self.s\n",
    "\n",
    "    def mc_method_rnd(self, verbose1=False, verbose2=False):\n",
    "        T = self.T\n",
    "        kb = self.kb\n",
    "        L = self.L\n",
    "        accept = 0\n",
    "        beta = 1 / T / kb\n",
    "        for n in range(L*L):\n",
    "            i = np.random.randint(L)\n",
    "            j = np.random.randint(L)\n",
    "            if self.dE(i, j) < 0:\n",
    "                self.s[i][j] *= -1\n",
    "                accept += 1\n",
    "            elif self.dE(i, j) >= 0:\n",
    "                prob = np.exp(-beta * self.dE(i, j))\n",
    "                if np.random.random() < prob:\n",
    "                    self.s[i][j] *= -1\n",
    "                    accept += 1\n",
    "            if verbose1 == True:\n",
    "                print('\\n[%i, %i], dE=%.1f' % (i, j, self.dE(i, j)))\n",
    "                self.visual()\n",
    "        if verbose2 == True:\n",
    "            print('L=%i, T=%i, Accept_rate=%.2f' % (L, T,\n",
    "                                                    (100 * accept / L**2)) +\n",
    "                  '%')\n",
    "        return self.s\n",
    "    \n",
    "    @staticmethod\n",
    "    def get_diff_T_params(L, T_list, N_rnd, N_eq=100, plot=True, polarized=True):\n",
    "        '''\n",
    "        input: L, T_list (diff T), N_rnd\n",
    "        output: C, Chi, Eng, Mag \n",
    "        '''\n",
    "        Mag, Eng, C, Chi = [], [], [], []\n",
    "        for T in T_list:\n",
    "            sample = Ising_model(L, T)\n",
    "            if polarized == True:\n",
    "                sample.s = np.ones((sample.L, sample.L))\n",
    "            \n",
    "            for run in range(N_eq):\n",
    "                sample.mc_method_sq()\n",
    "            \n",
    "            mag, eng, mag_2, eng_2 = [], [], [], []\n",
    "            for run in range(N_rnd):\n",
    "                sample.mc_method_sq()\n",
    "                mag.append(abs(sample.magnet()))\n",
    "                eng.append(sample.energy())\n",
    "                mag_2.append(sample.magnet()**2)\n",
    "                eng_2.append(sample.energy()**2)\n",
    "\n",
    "            mean_mag = sum(mag) / len(mag)\n",
    "            mean_eng = sum(eng) / len(eng)\n",
    "            mean_mag_2 = sum(mag_2) / len(mag_2)\n",
    "            mean_eng_2 = sum(eng_2) / len(eng_2)\n",
    "\n",
    "            C.append(((mean_eng_2 - mean_eng**2) / sample.kb / T / T) / (sample.L**2))\n",
    "            Chi.append(((mean_mag_2 - mean_mag**2) / sample.kb / T) / (sample.L**2))\n",
    "            Eng.append(mean_eng / sample.L**2)\n",
    "            Mag.append(mean_mag / sample.L**2)\n",
    "            \n",
    "        if plot == True:\n",
    "            axes[0, 0].plot(T_list, Eng, '-o', label=('L=%i' % L))\n",
    "            axes[0, 1].plot(T_list, C, '-o', label=('L=%i' % L))\n",
    "            axes[1, 0].plot(T_list, Mag, '-o', label=('L=%i' % L))\n",
    "            axes[1, 1].plot(T_list, Chi, '-o', label=('L=%i' % L))\n",
    "        \n",
    "        return C, Chi, Eng, Mag"
   ]
  },
  {
   "cell_type": "code",
   "execution_count": null,
   "metadata": {
    "ExecuteTime": {
     "start_time": "2019-04-19T13:07:27.725Z"
    }
   },
   "outputs": [
    {
     "name": "stdout",
     "output_type": "stream",
     "text": [
      "L=2\n",
      "L=4\n",
      "L=8\n",
      "L=16\n",
      "L=32\n"
     ]
    }
   ],
   "source": [
    "L_list = [2, 4, 8, 16, 32]\n",
    "T_list = list(np.arange(1,2,0.5)) + list(np.arange(2,3,0.05)) + list(np.arange(3,5,0.5))\n",
    "\n",
    "para_list = [r'<$m^2$>', '<Chi>/N']\n",
    "N_rnd = 2000\n",
    "\n",
    "fig, axes = plt.subplots(1, 2, figsize=(16, 8))\n",
    "\n",
    "Q_max = []\n",
    "for L in L_list:\n",
    "    print('L=%i' % L)\n",
    "    C, Chi, Eng, Mag = Ising_model.get_diff_T_params(L, T_list, N_rnd, plot=False)\n",
    "    \n",
    "    Mag_2 = []\n",
    "    for i in range(len(Mag)):\n",
    "        Mag_2.append(Mag[i]**2)\n",
    "    \n",
    "    axes[0].plot(T_list, Mag_2, '-o', label=('L=%i' % L))\n",
    "    axes[1].plot(T_list, Chi, '-o', label=('L=%i' % L))\n",
    "    \n",
    "    Q_max.append(max(Chi))\n",
    "    \n",
    "    for i in range(len(axes)):\n",
    "        axes[i].set_ylabel(para_list[i], fontsize=18)\n",
    "        axes[i].set_xlabel('Temperature (k)')\n",
    "        axes[i].legend()\n",
    "plt.show()"
   ]
  },
  {
   "cell_type": "code",
   "execution_count": 14,
   "metadata": {
    "ExecuteTime": {
     "end_time": "2019-04-19T13:05:31.492089Z",
     "start_time": "2019-04-19T13:05:31.135595Z"
    }
   },
   "outputs": [
    {
     "data": {
      "image/png": "[encoded data removed]",
      "text/plain": [
       "<Figure size 576x576 with 1 Axes>"
      ]
     },
     "metadata": {
      "needs_background": "light"
     },
     "output_type": "display_data"
    }
   ],
   "source": [
    "L = np.array(L_list)\n",
    "Q = np.array(Q_max)\n",
    "\n",
    "L_log = np.log(L)\n",
    "Q_log = np.log(Q)\n",
    "\n",
    "coeffs = np.polyfit(L_log,Q_log,deg=1)\n",
    "poly = np.poly1d(coeffs)\n",
    "yfit = lambda x: np.exp(poly(np.log(x)))\n",
    "\n",
    "plt.figure(figsize=(8,8))\n",
    "plt.loglog(L, yfit(L), '--', label='Best fitting slope=%.3f' % poly.c[0])\n",
    "plt.loglog(L, Q, 'o', label='Monte Carlo method')\n",
    "\n",
    "plt.xlabel('log L', fontsize=14)\n",
    "plt.ylabel('log Qmax', fontsize=14)\n",
    "plt.legend()\n",
    "plt.show()"
   ]
  }
 ],
 "metadata": {
  "hide_input": false,
  "kernelspec": {
   "display_name": "Python 3",
   "language": "python",
   "name": "python3"
  },
  "language_info": {
   "codemirror_mode": {
    "name": "ipython",
    "version": 3
   },
   "file_extension": ".py",
   "mimetype": "text/x-python",
   "name": "python",
   "nbconvert_exporter": "python",
   "pygments_lexer": "ipython3",
   "version": "3.7.1"
  },
  "toc": {
   "base_numbering": 1,
   "nav_menu": {},
   "number_sections": true,
   "sideBar": true,
   "skip_h1_title": false,
   "title_cell": "Table of Contents",
   "title_sidebar": "Contents",
   "toc_cell": false,
   "toc_position": {},
   "toc_section_display": true,
   "toc_window_display": false
  },
  "varInspector": {
   "cols": {
    "lenName": 16,
    "lenType": 16,
    "lenVar": 40
   },
   "kernels_config": {
    "python": {
     "delete_cmd_postfix": "",
     "delete_cmd_prefix": "del ",
     "library": "var_list.py",
     "varRefreshCmd": "print(var_dic_list())"
    },
    "r": {
     "delete_cmd_postfix": ") ",
     "delete_cmd_prefix": "rm(",
     "library": "var_list.r",
     "varRefreshCmd": "cat(var_dic_list()) "
    }
   },
   "position": {
    "height": "143.571px",
    "left": "1024.14px",
    "right": "20px",
    "top": "125px",
    "width": "350px"
   },
   "types_to_exclude": [
    "module",
    "function",
    "builtin_function_or_method",
    "instance",
    "_Feature"
   ],
   "window_display": false
  }
 },
 "nbformat": 4,
 "nbformat_minor": 2
}
