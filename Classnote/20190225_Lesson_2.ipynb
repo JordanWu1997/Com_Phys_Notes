{
 "cells": [
  {
   "cell_type": "markdown",
   "metadata": {},
   "source": [
    "# Error of Markov Chain Sampling"
   ]
  },
  {
   "cell_type": "markdown",
   "metadata": {
    "heading_collapsed": true
   },
   "source": [
    "## About Variance and Standard deviation"
   ]
  },
  {
   "cell_type": "markdown",
   "metadata": {
    "hidden": true
   },
   "source": [
    "### <a href='https://en.wikipedia.org/wiki/Variance'>Variance</a>\n",
    "### <a href='https://en.wikipedia.org/wiki/Standard_deviation'>Standard deviation</a>"
   ]
  },
  {
   "cell_type": "markdown",
   "metadata": {
    "heading_collapsed": true
   },
   "source": [
    "## Markov Chain Sampling and Folding"
   ]
  },
  {
   "cell_type": "code",
   "execution_count": 10,
   "metadata": {
    "hidden": true
   },
   "outputs": [],
   "source": [
    "import numpy as np\n",
    "import matplotlib.pyplot as plt\n",
    "\n",
    "def data_creating(N, x_i, y_i, delta):\n",
    "    '''\n",
    "    I/P: # of data to be created, start_x, start_y, step \n",
    "    O/P: data (a list) whose length is N\n",
    "    '''\n",
    "    x, y = x_i, y_i\n",
    "    data = []\n",
    "    for i in range(N):\n",
    "        dx = delta * (np.random.random()*2 - 1)\n",
    "        dy = delta * (np.random.random()*2 - 1)\n",
    "        if abs(x+dx) < 1 and abs(y+dy) < 1:\n",
    "            x += dx\n",
    "            y += dy\n",
    "        else:\n",
    "            x = x\n",
    "            y = y\n",
    "        if x**2 + y**2 <= 1:\n",
    "            data.append(1)\n",
    "        else:\n",
    "            data.append(0)\n",
    "    return data\n",
    "\n",
    "def data_folding_err(data, Nf, delta):\n",
    "    '''\n",
    "    I/P: data to be folded, times to fold data, step\n",
    "    O/P: (1) Return error\n",
    "         (2) Print mean, est_π, var, std, error \n",
    "    '''\n",
    "    mean = []; var = []; std = []; err = []\n",
    "    print('\\ndelta:{:6f}'.format(delta))\n",
    "    \n",
    "    for j in range(Nf):\n",
    "        temp = []\n",
    "        for i in range(len(data)):\n",
    "            temp.append((data[i] - sum(data)/len(data))**2)\n",
    "        mean.append(sum(data)/len(data))\n",
    "        var.append(sum(temp)/len(data))\n",
    "        std.append((sum(temp)/len(data))**0.5)\n",
    "        err.append((sum(temp)/len(data))**0.5/(len(data)**0.5))\n",
    "        print('N:{:2d}, mean:{:6f}, est_π:{:6f}, var:{:6f}, std:{:6f}, err:{:6f}'.format(j, mean[j], 4*mean[j], var[j], std[j], err[j]))\n",
    "        \n",
    "        new_data = []\n",
    "        for i in range(len(data)-1):\n",
    "            if i % 2 == 0:\n",
    "                new_data.append((data[i]+data[i+1])/2)\n",
    "        data = new_data\n",
    "    return err"
   ]
  },
  {
   "cell_type": "markdown",
   "metadata": {
    "heading_collapsed": true
   },
   "source": [
    "## Test different delta (step distance)"
   ]
  },
  {
   "cell_type": "code",
   "execution_count": 15,
   "metadata": {
    "hidden": true,
    "hide_input": false,
    "scrolled": false
   },
   "outputs": [
    {
     "name": "stdout",
     "output_type": "stream",
     "text": [
      "\n",
      "delta:0.300000\n",
      "N: 0, mean:0.785828, est_π:3.143311, var:0.168303, std:0.410247, err:0.003205\n",
      "N: 1, mean:0.785828, est_π:3.143311, var:0.141172, std:0.375729, err:0.004151\n",
      "N: 2, mean:0.785828, est_π:3.143311, var:0.116438, std:0.341230, err:0.005332\n",
      "N: 3, mean:0.785828, est_π:3.143311, var:0.091330, std:0.302208, err:0.006678\n",
      "N: 4, mean:0.785828, est_π:3.143311, var:0.067507, std:0.259821, err:0.008119\n",
      "N: 5, mean:0.785828, est_π:3.143311, var:0.044811, std:0.211687, err:0.009355\n",
      "N: 6, mean:0.785828, est_π:3.143311, var:0.024705, std:0.157178, err:0.009824\n",
      "N: 7, mean:0.785828, est_π:3.143311, var:0.012680, std:0.112604, err:0.009953\n",
      "N: 8, mean:0.785828, est_π:3.143311, var:0.006492, std:0.080572, err:0.010072\n",
      "N: 9, mean:0.785828, est_π:3.143311, var:0.002513, std:0.050126, err:0.008861\n",
      "N:10, mean:0.785828, est_π:3.143311, var:0.001539, std:0.039227, err:0.009807\n",
      "N:11, mean:0.785828, est_π:3.143311, var:0.001166, std:0.034146, err:0.012072\n",
      "N:12, mean:0.785828, est_π:3.143311, var:0.000688, std:0.026237, err:0.013118\n",
      "N:13, mean:0.785828, est_π:3.143311, var:0.000605, std:0.024597, err:0.017393\n",
      "N:14, mean:0.785828, est_π:3.143311, var:0.000000, std:0.000000, err:0.000000\n",
      "\n",
      "delta:0.500000\n",
      "N: 0, mean:0.774597, est_π:3.098389, var:0.174596, std:0.417847, err:0.003264\n",
      "N: 1, mean:0.774597, est_π:3.098389, var:0.141790, std:0.376550, err:0.004160\n",
      "N: 2, mean:0.774597, est_π:3.098389, var:0.109853, std:0.331441, err:0.005179\n",
      "N: 3, mean:0.774597, est_π:3.098389, var:0.077421, std:0.278246, err:0.006148\n",
      "N: 4, mean:0.774597, est_π:3.098389, var:0.049013, std:0.221388, err:0.006918\n",
      "N: 5, mean:0.774597, est_π:3.098389, var:0.027481, std:0.165773, err:0.007326\n",
      "N: 6, mean:0.774597, est_π:3.098389, var:0.014388, std:0.119949, err:0.007497\n",
      "N: 7, mean:0.774597, est_π:3.098389, var:0.007093, std:0.084217, err:0.007444\n",
      "N: 8, mean:0.774597, est_π:3.098389, var:0.003052, std:0.055241, err:0.006905\n",
      "N: 9, mean:0.774597, est_π:3.098389, var:0.001478, std:0.038441, err:0.006795\n",
      "N:10, mean:0.774597, est_π:3.098389, var:0.000691, std:0.026293, err:0.006573\n",
      "N:11, mean:0.774597, est_π:3.098389, var:0.000327, std:0.018075, err:0.006390\n",
      "N:12, mean:0.774597, est_π:3.098389, var:0.000096, std:0.009774, err:0.004887\n",
      "N:13, mean:0.774597, est_π:3.098389, var:0.000030, std:0.005432, err:0.003841\n",
      "N:14, mean:0.774597, est_π:3.098389, var:0.000000, std:0.000000, err:0.000000\n",
      "\n",
      "delta:1.000000\n",
      "N: 0, mean:0.779236, est_π:3.116943, var:0.172027, std:0.414762, err:0.003240\n",
      "N: 1, mean:0.779236, est_π:3.116943, var:0.137146, std:0.370332, err:0.004092\n",
      "N: 2, mean:0.779236, est_π:3.116943, var:0.102524, std:0.320193, err:0.005003\n",
      "N: 3, mean:0.779236, est_π:3.116943, var:0.066902, std:0.258654, err:0.005716\n",
      "N: 4, mean:0.779236, est_π:3.116943, var:0.039470, std:0.198672, err:0.006208\n",
      "N: 5, mean:0.779236, est_π:3.116943, var:0.020406, std:0.142851, err:0.006313\n",
      "N: 6, mean:0.779236, est_π:3.116943, var:0.010571, std:0.102817, err:0.006426\n",
      "N: 7, mean:0.779236, est_π:3.116943, var:0.004940, std:0.070287, err:0.006213\n",
      "N: 8, mean:0.779236, est_π:3.116943, var:0.002696, std:0.051919, err:0.006490\n",
      "N: 9, mean:0.779236, est_π:3.116943, var:0.001396, std:0.037364, err:0.006605\n",
      "N:10, mean:0.779236, est_π:3.116943, var:0.000970, std:0.031148, err:0.007787\n",
      "N:11, mean:0.779236, est_π:3.116943, var:0.000484, std:0.021992, err:0.007775\n",
      "N:12, mean:0.779236, est_π:3.116943, var:0.000156, std:0.012498, err:0.006249\n",
      "N:13, mean:0.779236, est_π:3.116943, var:0.000044, std:0.006653, err:0.004704\n",
      "N:14, mean:0.779236, est_π:3.116943, var:0.000000, std:0.000000, err:0.000000\n"
     ]
    }
   ],
   "source": [
    "Num_Sample = 2**14\n",
    "Num_Fold = 14+1\n",
    "\n",
    "data_03 = data_creating(Num_Sample, 1.0, 1.0, 0.3)\n",
    "data_05 = data_creating(Num_Sample, 1.0, 1.0, 0.5)\n",
    "data_10 = data_creating(Num_Sample, 1.0, 1.0, 1.0)\n",
    "\n",
    "err_03 = data_folding_err(data_03, Num_Fold, 0.3)\n",
    "err_05 = data_folding_err(data_05, Num_Fold, 0.5)\n",
    "err_10 = data_folding_err(data_10, Num_Fold, 1.0)"
   ]
  },
  {
   "cell_type": "markdown",
   "metadata": {
    "heading_collapsed": true
   },
   "source": [
    "## Plot diagram of Folding time vs Error"
   ]
  },
  {
   "cell_type": "code",
   "execution_count": 21,
   "metadata": {
    "hidden": true,
    "hide_input": false
   },
   "outputs": [
    {
     "data": {
      "image/png": "[encoded data removed]",
      "text/plain": [
       "<Figure size 648x432 with 1 Axes>"
      ]
     },
     "metadata": {
      "needs_background": "light"
     },
     "output_type": "display_data"
    }
   ],
   "source": [
    "data_num = np.arange(0, Num_Fold, 1)\n",
    "\n",
    "plt.figure(figsize=(9,6))\n",
    "plt.plot(data_num, err_03, 'ro-', label=r'error=0.3')\n",
    "plt.plot(data_num, err_05, 'bo-', label=r'error=0.5')\n",
    "plt.plot(data_num, err_10, 'go-', label=r'error=1.0')\n",
    "plt.xlabel(r'Folding times')\n",
    "plt.ylabel(r'Error')\n",
    "plt.grid(); plt.legend(); plt.show()"
   ]
  }
 ],
 "metadata": {
  "hide_input": false,
  "kernelspec": {
   "display_name": "Python 3",
   "language": "python",
   "name": "python3"
  },
  "language_info": {
   "codemirror_mode": {
    "name": "ipython",
    "version": 3
   },
   "file_extension": ".py",
   "mimetype": "text/x-python",
   "name": "python",
   "nbconvert_exporter": "python",
   "pygments_lexer": "ipython3",
   "version": "3.7.2"
  },
  "toc": {
   "base_numbering": 1,
   "nav_menu": {},
   "number_sections": true,
   "sideBar": true,
   "skip_h1_title": true,
   "title_cell": "Table of Contents",
   "title_sidebar": "Contents",
   "toc_cell": false,
   "toc_position": {},
   "toc_section_display": true,
   "toc_window_display": false
  },
  "varInspector": {
   "cols": {
    "lenName": 16,
    "lenType": 16,
    "lenVar": 40
   },
   "kernels_config": {
    "python": {
     "delete_cmd_postfix": "",
     "delete_cmd_prefix": "del ",
     "library": "var_list.py",
     "varRefreshCmd": "print(var_dic_list())"
    },
    "r": {
     "delete_cmd_postfix": ") ",
     "delete_cmd_prefix": "rm(",
     "library": "var_list.r",
     "varRefreshCmd": "cat(var_dic_list()) "
    }
   },
   "types_to_exclude": [
    "module",
    "function",
    "builtin_function_or_method",
    "instance",
    "_Feature"
   ],
   "window_display": false
  }
 },
 "nbformat": 4,
 "nbformat_minor": 2
}
