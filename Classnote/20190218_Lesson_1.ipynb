{
 "cells": [
  {
   "cell_type": "markdown",
   "metadata": {},
   "source": [
    "# Monte Carlo Method"
   ]
  },
  {
   "cell_type": "markdown",
   "metadata": {
    "heading_collapsed": true
   },
   "source": [
    "## Direct Sampling"
   ]
  },
  {
   "cell_type": "code",
   "execution_count": 1,
   "metadata": {
    "ExecuteTime": {
     "end_time": "2019-02-18T05:45:07.379442Z",
     "start_time": "2019-02-18T05:45:07.122693Z"
    },
    "hidden": true
   },
   "outputs": [],
   "source": [
    "import numpy as np\n",
    "import matplotlib.pyplot as plt"
   ]
  },
  {
   "cell_type": "code",
   "execution_count": 9,
   "metadata": {
    "ExecuteTime": {
     "end_time": "2019-02-18T14:36:14.557807Z",
     "start_time": "2019-02-18T14:36:14.518554Z"
    },
    "code_folding": [],
    "hidden": true,
    "hide_input": false,
    "scrolled": false
   },
   "outputs": [
    {
     "name": "stdout",
     "output_type": "stream",
     "text": [
      "1: N:1000, N_hit:787, Est_π:3.148000\n",
      "2: N:1000, N_hit:783, Est_π:3.132000\n",
      "3: N:1000, N_hit:797, Est_π:3.188000\n",
      "4: N:1000, N_hit:823, Est_π:3.292000\n",
      "5: N:1000, N_hit:783, Est_π:3.132000\n"
     ]
    }
   ],
   "source": [
    "for run in range(5):\n",
    "    N = 1000\n",
    "    N_hit = 0\n",
    "    for hit in range(N):\n",
    "        x = np.random.random()*2 - 1\n",
    "        y = np.random.random()*2 - 1\n",
    "        if x**2 + y**2 <= 1:\n",
    "            N_hit += 1\n",
    "    print('{}: N:{}, N_hit:{}, Est_'.format(run+1, N, N_hit) + u'\\u03C0'+':{:.6f}'.format(N_hit/N*4))"
   ]
  },
  {
   "cell_type": "markdown",
   "metadata": {
    "heading_collapsed": true
   },
   "source": [
    "## Markov Chain Sampling"
   ]
  },
  {
   "cell_type": "code",
   "execution_count": 14,
   "metadata": {
    "ExecuteTime": {
     "end_time": "2019-02-18T14:36:59.297619Z",
     "start_time": "2019-02-18T14:36:59.153423Z"
    },
    "code_folding": [],
    "hidden": true
   },
   "outputs": [
    {
     "name": "stdout",
     "output_type": "stream",
     "text": [
      "\n",
      "delta: 0.500\n",
      "1: N:6, Acpt:1000, N_hit:6, Est_π:0.024000\n",
      "2: N:6, Acpt:1000, N_hit:4, Est_π:0.016000\n",
      "3: N:6, Acpt:1000, N_hit:7, Est_π:0.028000\n",
      "4: N:6, Acpt:1000, N_hit:2, Est_π:0.008000\n",
      "5: N:7, Acpt:1000, N_hit:8, Est_π:0.032000\n",
      "\n",
      "delta: 0.800\n",
      "1: N:460, Acpt:1000, N_hit:696, Est_π:2.784000\n",
      "2: N:476, Acpt:1000, N_hit:745, Est_π:2.980000\n",
      "3: N:411, Acpt:1000, N_hit:656, Est_π:2.624000\n",
      "4: N:454, Acpt:1000, N_hit:657, Est_π:2.628000\n",
      "5: N:444, Acpt:1000, N_hit:643, Est_π:2.572000\n",
      "\n",
      "delta: 1.100\n",
      "1: N:528, Acpt:1000, N_hit:792, Est_π:3.168000\n",
      "2: N:523, Acpt:1000, N_hit:806, Est_π:3.224000\n",
      "3: N:481, Acpt:1000, N_hit:761, Est_π:3.044000\n",
      "4: N:516, Acpt:1000, N_hit:758, Est_π:3.032000\n",
      "5: N:526, Acpt:1000, N_hit:769, Est_π:3.076000\n",
      "\n",
      "delta: 1.400\n",
      "1: N:337, Acpt:1000, N_hit:730, Est_π:2.920000\n",
      "2: N:321, Acpt:1000, N_hit:735, Est_π:2.940000\n",
      "3: N:320, Acpt:1000, N_hit:775, Est_π:3.100000\n",
      "4: N:365, Acpt:1000, N_hit:790, Est_π:3.160000\n",
      "5: N:320, Acpt:1000, N_hit:782, Est_π:3.128000\n",
      "\n",
      "delta: 1.700\n",
      "1: N:204, Acpt:1000, N_hit:769, Est_π:3.076000\n",
      "2: N:250, Acpt:1000, N_hit:773, Est_π:3.092000\n",
      "3: N:205, Acpt:1000, N_hit:733, Est_π:2.932000\n",
      "4: N:217, Acpt:1000, N_hit:741, Est_π:2.964000\n",
      "5: N:229, Acpt:1000, N_hit:756, Est_π:3.024000\n",
      "\n",
      "delta: 2.000\n",
      "1: N:161, Acpt:1000, N_hit:707, Est_π:2.828000\n",
      "2: N:150, Acpt:1000, N_hit:716, Est_π:2.864000\n",
      "3: N:169, Acpt:1000, N_hit:752, Est_π:3.008000\n",
      "4: N:168, Acpt:1000, N_hit:692, Est_π:2.768000\n",
      "5: N:181, Acpt:1000, N_hit:776, Est_π:3.104000\n"
     ]
    }
   ],
   "source": [
    "N = 1000\n",
    "x_i, y_i = 1.0, 1.0\n",
    "\n",
    "for delta in np.arange(0.5, 2.3, 0.3):\n",
    "    print('\\ndelta: {:.3f}'.format(delta))\n",
    "    for run in range(5):\n",
    "        x, y = x_i, y_i\n",
    "        accept = 0\n",
    "        N_hit = 0\n",
    "   \n",
    "        for n in range(N):\n",
    "            dx = delta * np.random.random()*2 - 1\n",
    "            dy = delta * np.random.random()*2 - 1\n",
    "            if abs(x+dx) < 1 and abs(y+dy) < 1:\n",
    "                x += dx\n",
    "                y += dy\n",
    "                accept += 1\n",
    "            else:\n",
    "                x = x\n",
    "                y = y\n",
    "            if x**2 + y**2 <= 1:\n",
    "                N_hit += 1\n",
    "   \n",
    "        print('{}: N:{}, Acpt:{}, N_hit:{}, Est_'.format(run+1, accept, N, N_hit) + u'\\u03C0'+':{:.6f}'.format(N_hit/N*4))"
   ]
  },
  {
   "cell_type": "markdown",
   "metadata": {
    "heading_collapsed": true
   },
   "source": [
    "## Buffon's needle problem\n",
    "### <a href='https://en.wikipedia.org/wiki/Buffon%27s_needle_problem'>About Buffon's needle problem</a>"
   ]
  },
  {
   "cell_type": "code",
   "execution_count": 15,
   "metadata": {
    "ExecuteTime": {
     "end_time": "2019-02-18T14:37:56.610169Z",
     "start_time": "2019-02-18T14:37:56.566241Z"
    },
    "hidden": true
   },
   "outputs": [
    {
     "name": "stdout",
     "output_type": "stream",
     "text": [
      "1: N:1000, N_hit:776, Est_π:3.086420\n",
      "2: N:1000, N_hit:776, Est_π:3.200000\n",
      "3: N:1000, N_hit:776, Est_π:3.044140\n",
      "4: N:1000, N_hit:776, Est_π:3.189793\n",
      "5: N:1000, N_hit:776, Est_π:3.058104\n"
     ]
    }
   ],
   "source": [
    "N = 1000\n",
    "\n",
    "a = 1\n",
    "b = 1\n",
    "\n",
    "for run in range(5):\n",
    "    hit = 0                                                                                                                                                                                                                                                                                                                                                                                                                                                                                                                                                                                                                                                                                                                                                                                                                                                                                                                                                                                                                                                                                                                                                                                                                                                                                                                                                                                                                                                                                                                                                                                                                                                                                                                                                                                                                                                                                                                                                                                                                                                                                                                                                                                                                                                                                                                                                                                                                                                                                                                                                                                                                                                                                                                                                                                                                                                                                                                                                                                                                                                                                                                                                                      \n",
    "    for i in range(N):\n",
    "        xc = (b/2) * np.random.random()\n",
    "        phi = (np.pi/2) * np.random.random()\n",
    "        xtip = xc-a/2 * np.cos(phi)\n",
    "        \n",
    "        if xtip < 0:\n",
    "            hit += 1\n",
    "    print('{}: N:{}, N_hit:{}, Est_'.format(run+1, N, N_hit) + u'\\u03C0'+':{:.6f}'.format(2/(hit/N)))"
   ]
  }
 ],
 "metadata": {
  "hide_input": false,
  "kernelspec": {
   "display_name": "Python 3",
   "language": "python",
   "name": "python3"
  },
  "language_info": {
   "codemirror_mode": {
    "name": "ipython",
    "version": 3
   },
   "file_extension": ".py",
   "mimetype": "text/x-python",
   "name": "python",
   "nbconvert_exporter": "python",
   "pygments_lexer": "ipython3",
   "version": "3.7.2"
  },
  "toc": {
   "base_numbering": 1,
   "nav_menu": {},
   "number_sections": true,
   "sideBar": true,
   "skip_h1_title": true,
   "title_cell": "Table of Contents",
   "title_sidebar": "Contents",
   "toc_cell": false,
   "toc_position": {},
   "toc_section_display": true,
   "toc_window_display": false
  },
  "varInspector": {
   "cols": {
    "lenName": 16,
    "lenType": 16,
    "lenVar": 40
   },
   "kernels_config": {
    "python": {
     "delete_cmd_postfix": "",
     "delete_cmd_prefix": "del ",
     "library": "var_list.py",
     "varRefreshCmd": "print(var_dic_list())"
    },
    "r": {
     "delete_cmd_postfix": ") ",
     "delete_cmd_prefix": "rm(",
     "library": "var_list.r",
     "varRefreshCmd": "cat(var_dic_list()) "
    }
   },
   "types_to_exclude": [
    "module",
    "function",
    "builtin_function_or_method",
    "instance",
    "_Feature"
   ],
   "window_display": false
  }
 },
 "nbformat": 4,
 "nbformat_minor": 2
}
