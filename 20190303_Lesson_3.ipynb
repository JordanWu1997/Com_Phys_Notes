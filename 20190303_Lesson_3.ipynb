{
 "cells": [
  {
   "cell_type": "markdown",
   "metadata": {},
   "source": [
    "# Introduction to Monte Carlo methods"
   ]
  },
  {
   "cell_type": "markdown",
   "metadata": {},
   "source": [
    "##  An Ising Model of a Ferromagnet"
   ]
  },
  {
   "cell_type": "markdown",
   "metadata": {},
   "source": [
    "Inverse temperatrure\n",
    "$$\n",
    "  \\beta = \\frac{1}{k_B T}, \\;\n",
    "  \\frac{\\partial \\beta}{\\partial T} = \\frac{-1}{k_B T^2}.\n",
    "$$\n",
    "Ising model Hamiltonian:\n",
    "$$\n",
    "  H[\\{S\\}] = -J \\sum_{\\langle i,j\\rangle} S_i S_j - h \\sum_i S_i.\n",
    "$$\n",
    "Canonical partition function:\n",
    "$$\n",
    "  Z = \\sum_{\\{S\\}} e^{-\\beta H[\\{S\\}]} \n",
    "  = \\sum_{\\{S\\}} e^{ \\beta J \\sum_{\\langle i,j\\rangle} S_i S_j + \\beta h \\sum_i S_i}.\n",
    "$$"
   ]
  },
  {
   "cell_type": "markdown",
   "metadata": {},
   "source": [
    "Average energy:\n",
    "$$\n",
    "  \\langle E \\rangle \\equiv \n",
    "  = \\frac{1}{Z} \\sum_{\\{S\\}} H[\\{S\\}] e^{-\\beta H[\\{S\\}]} \n",
    "  = -\\frac{1}{Z} \\frac{\\partial Z}{\\partial \\beta}  \n",
    "  = -\\frac{\\partial \\ln Z}{\\partial \\beta}.\n",
    "$$\n",
    "\n",
    "Average square energy:\n",
    "$$\n",
    "  \\langle E^2 \\rangle \\equiv \n",
    "  = \\frac{1}{Z} \\sum_{\\{S\\}} H^2[\\{S\\}] e^{-\\beta H[\\{S\\}]} \n",
    "  = \\frac{1}{Z} \\frac{\\partial^2 Z}{\\partial \\beta^2}.\n",
    "$$"
   ]
  },
  {
   "cell_type": "markdown",
   "metadata": {},
   "source": [
    "Heat capacity:\n",
    "$$\n",
    "  C_V \\equiv \\frac{\\partial \\langle E \\rangle}{\\partial T} \n",
    "  = \\frac{-1}{k_B T^2} \\frac{\\partial \\langle E \\rangle}{\\partial \\beta}\n",
    "  = \\frac{-1}{k_B T^2} \\left( \n",
    "    -\\frac{1}{Z} \\frac{\\partial^2 Z}{\\partial \\beta^2} \n",
    "    + \\frac{1}{Z^2} \\frac{\\partial Z}{\\partial \\beta} \\frac{\\partial Z}{\\partial \\beta}\n",
    "  \\right)\n",
    "  = \\frac{1}{k_B T^2} \\left( \\langle E^2 \\rangle - \\langle E \\rangle^2 \\right).\n",
    "$$\n",
    "Specific heat pear site:\n",
    "$$\n",
    "  c_V \\equiv \\frac{C_V}{N}.\n",
    "$$"
   ]
  },
  {
   "cell_type": "markdown",
   "metadata": {},
   "source": [
    "Average magnetization:\n",
    "$$\n",
    "  \\langle M\\rangle \\equiv \\langle \\sum_i S_i \\rangle \n",
    "  = \\frac{1}{Z} \\sum_{\\{S\\}} \\left( \\sum_i S_i \\right) e^{-\\beta H[\\{S\\}]} \n",
    "  = \\frac{1}{Z} \\frac{\\partial Z}{\\partial (\\beta h)}\n",
    "  = \\frac{\\partial \\ln Z}{\\partial (\\beta h)}\n",
    "$$\n",
    "Average magnetization:\n",
    "$$\n",
    "  \\langle M^2\\rangle \\equiv \\langle (\\sum_i  S_i) (\\sum_j S_j) \\rangle \n",
    "  = \\frac{1}{Z} \\sum_{\\{S\\}} \\left( \\sum_i S_i \\right) \\left( \\sum_j S_j \\right) e^{-\\beta H[\\{S\\}]} \n",
    "  = \\frac{1}{Z} \\frac{\\partial^2 Z}{\\partial (\\beta h)^2}\n",
    "$$\n",
    "\n",
    "Average magnetization per site:\n",
    "$$ \n",
    "  m \\equiv \\frac{1}{N} M = \\frac{1}{N} \\langle \\sum_i S_i \\rangle\n",
    "$$\n",
    "\n",
    "Isothermal susceptbility:\n",
    "$$\n",
    "  \\chi_T \\equiv \\frac{\\partial M}{\\partial h} = \\beta \\frac{\\partial M}{\\partial (\\beta h)}\n",
    "  = \\beta \\left(\n",
    "    \\frac{1}{Z}\\frac{\\partial^2 Z}{\\partial (\\beta h)^2}\n",
    "    -\\frac{1}{Z^2} \\frac{\\partial Z}{\\partial (\\beta h)} \\frac{\\partial Z}{\\partial (\\beta h)}\n",
    "  \\right)\n",
    "  = \\beta \\left( \\langle M^2 \\rangle -\\langle M \\rangle^2 \\right)\n",
    "  = \\frac{1}{k_B T} \\left( \\langle M^2 \\rangle -\\langle M \\rangle^2 \\right).\n",
    "$$\n",
    "Isothermal susceptbility per site:\n",
    "$$\n",
    "  \\frac{\\partial m}{\\partial h} = \\frac{1}{N} \\frac{\\partial M}{\\partial h} \n",
    "  = \\frac{\\chi_T}{N}.\n",
    "$$"
   ]
  }
 ],
 "metadata": {
  "hide_input": false,
  "kernelspec": {
   "display_name": "Python 3",
   "language": "python",
   "name": "python3"
  },
  "language_info": {
   "codemirror_mode": {
    "name": "ipython",
    "version": 3
   },
   "file_extension": ".py",
   "mimetype": "text/x-python",
   "name": "python",
   "nbconvert_exporter": "python",
   "pygments_lexer": "ipython3",
   "version": "3.7.1"
  },
  "toc": {
   "base_numbering": 1,
   "nav_menu": {},
   "number_sections": true,
   "sideBar": true,
   "skip_h1_title": true,
   "title_cell": "Table of Contents",
   "title_sidebar": "Contents",
   "toc_cell": false,
   "toc_position": {},
   "toc_section_display": true,
   "toc_window_display": false
  },
  "varInspector": {
   "cols": {
    "lenName": 16,
    "lenType": 16,
    "lenVar": 40
   },
   "kernels_config": {
    "python": {
     "delete_cmd_postfix": "",
     "delete_cmd_prefix": "del ",
     "library": "var_list.py",
     "varRefreshCmd": "print(var_dic_list())"
    },
    "r": {
     "delete_cmd_postfix": ") ",
     "delete_cmd_prefix": "rm(",
     "library": "var_list.r",
     "varRefreshCmd": "cat(var_dic_list()) "
    }
   },
   "types_to_exclude": [
    "module",
    "function",
    "builtin_function_or_method",
    "instance",
    "_Feature"
   ],
   "window_display": false
  }
 },
 "nbformat": 4,
 "nbformat_minor": 2
}
