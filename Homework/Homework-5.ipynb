{
 "cells": [
  {
   "cell_type": "markdown",
   "metadata": {},
   "source": [
    "# 10720PHYS401200 Homework-5\n",
    "\n",
    "## References:\n",
    "* PRB 81, 174411 (2010).\n",
    "* PRB 86, 045139 (2012)."
   ]
  },
  {
   "cell_type": "code",
   "execution_count": 3,
   "metadata": {
    "ExecuteTime": {
     "end_time": "2019-06-20T02:53:13.609382Z",
     "start_time": "2019-06-20T02:53:13.154096Z"
    }
   },
   "outputs": [],
   "source": [
    "import Tor10\n",
    "import copy as cp\n",
    "import numpy as np\n",
    "import matplotlib.pyplot as plt"
   ]
  },
  {
   "cell_type": "markdown",
   "metadata": {},
   "source": [
    "## Problem 1: SVD-truncate for a rank-4 tensor\n",
    "Write a function to perform the SVD-turncate for a rank-4 tensor. "
   ]
  },
  {
   "cell_type": "code",
   "execution_count": 4,
   "metadata": {
    "ExecuteTime": {
     "end_time": "2019-06-20T02:53:13.991593Z",
     "start_time": "2019-06-20T02:53:13.975326Z"
    }
   },
   "outputs": [],
   "source": [
    "def SVD_truncate(T, D_remain):\n",
    "    M = T.GetBlock()\n",
    "    M.SetName('M')\n",
    "    \n",
    "    # SVD_truncate with UniTensor method\n",
    "    UM, S, VtM = M.Svd_truncate(int(D_remain))\n",
    "    UM.SetName('UM')\n",
    "    S.SetName('S')\n",
    "    VtM.SetName('VtM')\n",
    "    print(S)\n",
    "    \n",
    "    rowrank = T.rowrank\n",
    "    rank = len(T.labels)\n",
    "    colrank = rank - rowrank\n",
    "    \n",
    "    # Duplicate labels from UM and VtM\n",
    "    U_labels = np.concatenate([T.labels[:rowrank],UM.labels[-1:]])\n",
    "    Vt_labels = np.concatenate([VtM.labels[:1], T.labels[-colrank:]])\n",
    "    \n",
    "    # Duplicate bonds from UM and VtM\n",
    "    U_bonds = np.concatenate([T.bonds[:rowrank],UM.bonds[-1:]])\n",
    "    Vt_bonds = np.concatenate([VtM.bonds[:1], T.bonds[-colrank:]])\n",
    "    \n",
    "    # Put UM values to U shape tensor\n",
    "    U = Tor10.UniTensor(bonds=U_bonds, labels=U_labels, rowrank=T.rowrank, name='U') \n",
    "    U.PutBlock(UM)\n",
    "    \n",
    "    # Put VtM values to Vt shape tensor\n",
    "    Vt = Tor10.UniTensor(bonds=Vt_bonds, labels=Vt_labels, rowrank=1, name='Vt')\n",
    "    Vt.PutBlock(VtM)\n",
    "    \n",
    "    T.Print_diagram()\n",
    "    U.Print_diagram()\n",
    "    S.Print_diagram()\n",
    "    Vt.Print_diagram()\n",
    "    \n",
    "    return U, S, Vt"
   ]
  },
  {
   "cell_type": "markdown",
   "metadata": {},
   "source": [
    "### TEST - Input a random Rank-4 tensor"
   ]
  },
  {
   "cell_type": "code",
   "execution_count": 5,
   "metadata": {
    "ExecuteTime": {
     "end_time": "2019-06-20T02:53:14.807959Z",
     "start_time": "2019-06-20T02:53:14.800839Z"
    }
   },
   "outputs": [
    {
     "name": "stdout",
     "output_type": "stream",
     "text": [
      "-----------------------\n",
      "tensor Name : R4T\n",
      "tensor Rank : 4\n",
      "has_symmetry: False\n",
      "on device     : cpu\n",
      "is_diag       : False\n",
      "            -------------      \n",
      "           /             \\     \n",
      "    10 ____| 2         2 |____ 12 \n",
      "           |             |     \n",
      "    11 ____| 2         2 |____ 13 \n",
      "           \\             /     \n",
      "            -------------      \n"
     ]
    }
   ],
   "source": [
    "bd = Tor10.Bond(2)\n",
    "R4T = Tor10.UniTensor([bd, bd, bd, bd], rowrank=2, name='R4T', labels=[10,11,12,13])\n",
    "_ = R4T.Rand()\n",
    "R4T.Print_diagram()"
   ]
  },
  {
   "cell_type": "code",
   "execution_count": 6,
   "metadata": {
    "ExecuteTime": {
     "end_time": "2019-06-20T02:53:15.114146Z",
     "start_time": "2019-06-20T02:53:15.100442Z"
    }
   },
   "outputs": [
    {
     "name": "stdout",
     "output_type": "stream",
     "text": [
      "Tensor name: S\n",
      "is_diag    : True\n",
      "tensor([2.0600, 0.7601, 0.1388, 0.0742], dtype=torch.float64)\n",
      "\n",
      "-----------------------\n",
      "tensor Name : R4T\n",
      "tensor Rank : 4\n",
      "has_symmetry: False\n",
      "on device     : cpu\n",
      "is_diag       : False\n",
      "            -------------      \n",
      "           /             \\     \n",
      "    10 ____| 2         2 |____ 12 \n",
      "           |             |     \n",
      "    11 ____| 2         2 |____ 13 \n",
      "           \\             /     \n",
      "            -------------      \n",
      "-----------------------\n",
      "tensor Name : U\n",
      "tensor Rank : 3\n",
      "has_symmetry: False\n",
      "on device     : cpu\n",
      "is_diag       : False\n",
      "            -------------      \n",
      "           /             \\     \n",
      "    10 ____| 2         4 |____ -1 \n",
      "           |             |     \n",
      "    11 ____| 2           |        \n",
      "           \\             /     \n",
      "            -------------      \n",
      "-----------------------\n",
      "tensor Name : S\n",
      "tensor Rank : 2\n",
      "has_symmetry: False\n",
      "on device     : cpu\n",
      "is_diag       : True\n",
      "            -------------      \n",
      "           /             \\     \n",
      "    -1 ____| 4         4 |____ -2 \n",
      "           \\             /     \n",
      "            -------------      \n",
      "-----------------------\n",
      "tensor Name : Vt\n",
      "tensor Rank : 3\n",
      "has_symmetry: False\n",
      "on device     : cpu\n",
      "is_diag       : False\n",
      "            -------------      \n",
      "           /             \\     \n",
      "    -2 ____| 4         2 |____ 12 \n",
      "           |             |     \n",
      "           |           2 |____ 13 \n",
      "           \\             /     \n",
      "            -------------      \n"
     ]
    }
   ],
   "source": [
    "U, S, V = SVD_truncate(R4T, 4)"
   ]
  },
  {
   "cell_type": "markdown",
   "metadata": {},
   "source": [
    "## Problem 2: HOSVD for a rank-4 tensor\n",
    "Write a function to perform higer-order SVD for a rank-4 tensor. \n",
    "That is, given a rank-4 tensor $M_{abcd}$, find unitary matrices $U^L, U^R, U^U, U^D$ such that\n",
    "$$\n",
    "  \\large\n",
    "  M_{abcd} = \\sum_{ijkl} S_{ijkl} U^L_{ai} U^R_{bj} U^U_{ck} U^{D}_{dl},\n",
    "$$\n",
    "where $S$ is the core tensor."
   ]
  },
  {
   "cell_type": "code",
   "execution_count": 7,
   "metadata": {
    "ExecuteTime": {
     "end_time": "2019-06-20T02:53:15.718821Z",
     "start_time": "2019-06-20T02:53:15.693290Z"
    }
   },
   "outputs": [],
   "source": [
    "def Find_unitary(T, label_list):\n",
    "    print('\\n----Find Unitary Matrices----\\n')\n",
    "    index_list  = cp.deepcopy(label_list)\n",
    "    U_list = []\n",
    "    for i in range(len(T.labels)):\n",
    "        MP_label = []\n",
    "        MP_label.append(label_list[i])\n",
    "        for label in label_list:\n",
    "            if label != label_list[i]:\n",
    "                MP_label.append(label)\n",
    "        M = cp.deepcopy(T)\n",
    "        MP = M.Permute(MP_label, rowrank=1)\n",
    "        MP.SetName('MP')\n",
    "        MPt = MP.Whole_transpose()\n",
    "        MPt.SetLabel(9999, 3)\n",
    "        MM = Tor10.Contract(MP, MPt)\n",
    "        u, s, vt = MM.Svd()\n",
    "        u.SetLabel(int(u.labels[0])+10, 1)\n",
    "        U_list.append(u)\n",
    "    return U_list\n",
    "\n",
    "def Print_diagram(T_list):\n",
    "    for T in T_list:\n",
    "        print(T.Print_diagram())\n",
    "\n",
    "def Check_unitary(U_list):\n",
    "    print('\\n----Check Unitary----\\n')\n",
    "    for U in U_list:\n",
    "        U = cp.deepcopy(U)\n",
    "        Ut = U.Whole_transpose()\n",
    "        U.SetLabels([0, -1])\n",
    "        Ut.SetLabels([-1, 1])\n",
    "        print(Tor10.Contract(Ut, U))\n",
    "        print(Tor10.Contract(U, Ut)) "
   ]
  },
  {
   "cell_type": "markdown",
   "metadata": {},
   "source": [
    "### TEST - Input a random Rank-4 tensor"
   ]
  },
  {
   "cell_type": "code",
   "execution_count": 12,
   "metadata": {
    "ExecuteTime": {
     "end_time": "2019-06-20T02:53:37.748902Z",
     "start_time": "2019-06-20T02:53:37.733314Z"
    }
   },
   "outputs": [
    {
     "name": "stdout",
     "output_type": "stream",
     "text": [
      "-----------------------\n",
      "tensor Name : R4T\n",
      "tensor Rank : 4\n",
      "has_symmetry: False\n",
      "on device     : cpu\n",
      "is_diag       : False\n",
      "            -------------      \n",
      "           /             \\     \n",
      "     0 ____| 2         2 |____ 2  \n",
      "           |             |     \n",
      "     1 ____| 2         2 |____ 3  \n",
      "           \\             /     \n",
      "            -------------      \n",
      "Tensor name: R4T\n",
      "is_diag    : False\n",
      "tensor([[[[0.5884, 0.3148],\n",
      "          [0.7116, 0.1235]],\n",
      "\n",
      "         [[0.1531, 0.8536],\n",
      "          [0.0954, 0.6619]]],\n",
      "\n",
      "\n",
      "        [[[0.3400, 0.7777],\n",
      "          [0.2391, 0.1860]],\n",
      "\n",
      "         [[0.4343, 0.9612],\n",
      "          [0.3753, 0.5977]]]], dtype=torch.float64)\n",
      "\n"
     ]
    }
   ],
   "source": [
    "bd = Tor10.Bond(2)\n",
    "R4T = Tor10.UniTensor([bd, bd, bd, bd], rowrank=2, name='R4T')\n",
    "_ = R4T.Rand()\n",
    "R4T.Print_diagram()\n",
    "print(R4T)"
   ]
  },
  {
   "cell_type": "code",
   "execution_count": 13,
   "metadata": {
    "ExecuteTime": {
     "end_time": "2019-06-20T02:53:41.938984Z",
     "start_time": "2019-06-20T02:53:41.883824Z"
    }
   },
   "outputs": [
    {
     "name": "stdout",
     "output_type": "stream",
     "text": [
      "\n",
      "----Find Unitary Matrices----\n",
      "\n",
      "-----------------------\n",
      "tensor Name : \n",
      "tensor Rank : 2\n",
      "has_symmetry: False\n",
      "on device     : cpu\n",
      "is_diag       : False\n",
      "            -------------      \n",
      "           /             \\     \n",
      "     0 ____| 2         2 |____ 10 \n",
      "           \\             /     \n",
      "            -------------      \n",
      "None\n",
      "-----------------------\n",
      "tensor Name : \n",
      "tensor Rank : 2\n",
      "has_symmetry: False\n",
      "on device     : cpu\n",
      "is_diag       : False\n",
      "            -------------      \n",
      "           /             \\     \n",
      "     1 ____| 2         2 |____ 11 \n",
      "           \\             /     \n",
      "            -------------      \n",
      "None\n",
      "-----------------------\n",
      "tensor Name : \n",
      "tensor Rank : 2\n",
      "has_symmetry: False\n",
      "on device     : cpu\n",
      "is_diag       : False\n",
      "            -------------      \n",
      "           /             \\     \n",
      "     2 ____| 2         2 |____ 12 \n",
      "           \\             /     \n",
      "            -------------      \n",
      "None\n",
      "-----------------------\n",
      "tensor Name : \n",
      "tensor Rank : 2\n",
      "has_symmetry: False\n",
      "on device     : cpu\n",
      "is_diag       : False\n",
      "            -------------      \n",
      "           /             \\     \n",
      "     3 ____| 2         2 |____ 13 \n",
      "           \\             /     \n",
      "            -------------      \n",
      "None\n",
      "\n",
      "----Check Unitary----\n",
      "\n",
      "Tensor name: \n",
      "is_diag    : False\n",
      "tensor([[1.0000e+00, 5.5511e-17],\n",
      "        [5.5511e-17, 1.0000e+00]], dtype=torch.float64)\n",
      "\n",
      "Tensor name: \n",
      "is_diag    : False\n",
      "tensor([[1.0000e+00, 5.5511e-17],\n",
      "        [5.5511e-17, 1.0000e+00]], dtype=torch.float64)\n",
      "\n",
      "Tensor name: \n",
      "is_diag    : False\n",
      "tensor([[1.0000, 0.0000],\n",
      "        [0.0000, 1.0000]], dtype=torch.float64)\n",
      "\n",
      "Tensor name: \n",
      "is_diag    : False\n",
      "tensor([[1.0000, 0.0000],\n",
      "        [0.0000, 1.0000]], dtype=torch.float64)\n",
      "\n",
      "Tensor name: \n",
      "is_diag    : False\n",
      "tensor([[ 1.0000e+00, -5.5511e-17],\n",
      "        [-5.5511e-17,  1.0000e+00]], dtype=torch.float64)\n",
      "\n",
      "Tensor name: \n",
      "is_diag    : False\n",
      "tensor([[ 1.0000e+00, -5.5511e-17],\n",
      "        [-5.5511e-17,  1.0000e+00]], dtype=torch.float64)\n",
      "\n",
      "Tensor name: \n",
      "is_diag    : False\n",
      "tensor([[1.0000e+00, 5.5511e-17],\n",
      "        [5.5511e-17, 1.0000e+00]], dtype=torch.float64)\n",
      "\n",
      "Tensor name: \n",
      "is_diag    : False\n",
      "tensor([[1.0000e+00, 5.5511e-17],\n",
      "        [5.5511e-17, 1.0000e+00]], dtype=torch.float64)\n",
      "\n"
     ]
    }
   ],
   "source": [
    "U_list = Find_unitary(R4T, [0,1,2,3])\n",
    "_ = Print_diagram(U_list)\n",
    "Check_unitary(U_list)"
   ]
  },
  {
   "cell_type": "markdown",
   "metadata": {},
   "source": [
    "## Problem 3: 2x2 Ising model\n",
    "\n",
    "Consider 2D Ising model $H=-\\sum_{\\langle ij\\rangle} \\sigma^z_i \\sigma^z_j$ on square lattice. By contracting the 2x2 tensor network, plot \n",
    "* energy per site,\n",
    "* $C_v$ per site,\n",
    "* $C_{max}=\\langle S_{1,1,} S_{2,2}\\rangle$,\n",
    "* $dC_{max}/dT$,\n",
    "as a function of temperature."
   ]
  },
  {
   "cell_type": "code",
   "execution_count": 14,
   "metadata": {
    "ExecuteTime": {
     "end_time": "2019-06-20T02:53:42.969385Z",
     "start_time": "2019-06-20T02:53:42.945105Z"
    }
   },
   "outputs": [],
   "source": [
    "def Ising_NT_Contract(Temp):\n",
    "    \n",
    "    # variable\n",
    "    beta = 1/Temp\n",
    "    \n",
    "    # bond\n",
    "    bd = Tor10.Bond(2)\n",
    "    \n",
    "    # W\n",
    "    W = Tor10.UniTensor([bd,bd],rowrank=1)\n",
    "    W.SetName('W')\n",
    "    W.SetElem([np.sqrt(np.cosh(beta)), np.sqrt(np.sinh(beta)),\n",
    "               np.sqrt(np.cosh(beta)), -np.sqrt(np.sinh(beta))])\n",
    "\n",
    "    # T and Tz\n",
    "    T = Tor10.UniTensor([bd,bd,bd,bd],rowrank=2, name='T')\n",
    "    Tz = Tor10.UniTensor([bd,bd,bd,bd],rowrank=2, name='Tz')\n",
    "    for i in range(2):\n",
    "        for j in range(2):\n",
    "            for k in range(2):\n",
    "                for l in range(2):\n",
    "                    T[i,j,k,l] = W[0,i].item()*W[0,j].item()*W[0,k].item()*W[0,l].item() + W[1,i].item()*W[1,j].item()*W[1,k].item()*W[1,l].item()     \n",
    "                    Tz[i,j,k,l] = W[0,i].item()*W[0,j].item()*W[0,k].item()*W[0,l].item() - W[1,i].item()*W[1,j].item()*W[1,k].item()*W[1,l].item()     \n",
    "\n",
    "# Trace\n",
    "#     T11 : 0 1; 3 4\n",
    "#     T12 : 2 3; 1 6\n",
    "#     T21 : 4 5; 7 0\n",
    "#     T22 : 6 7; 5 2\n",
    "        \n",
    "    # Z\n",
    "    T11 = cp.deepcopy(T)\n",
    "    T12 = cp.deepcopy(T)\n",
    "    T21 = cp.deepcopy(T)\n",
    "    T22 = cp.deepcopy(T)\n",
    "\n",
    "    T11.SetLabels([0,1,3,4])\n",
    "    T12.SetLabels([2,3,1,6])\n",
    "    T21.SetLabels([4,5,7,0])\n",
    "    T22.SetLabels([6,7,5,2])\n",
    "\n",
    "    Z = Tor10.Contract(Tor10.Contract(T11, T12), Tor10.Contract(T21, T22))\n",
    "    Z = Z.item()\n",
    "\n",
    "    # SzSz\n",
    "    T11 = cp.deepcopy(Tz)\n",
    "    T12 = cp.deepcopy(Tz)\n",
    "    T21 = cp.deepcopy(T)\n",
    "    T22 = cp.deepcopy(T)\n",
    "\n",
    "    T11.SetLabels([0,1,3,4])\n",
    "    T12.SetLabels([2,3,1,6])\n",
    "    T21.SetLabels([4,5,7,0])\n",
    "    T22.SetLabels([6,7,5,2])\n",
    "\n",
    "    SzSz = Tor10.Contract(Tor10.Contract(T11, T12), Tor10.Contract(T21, T22))\n",
    "    SzSz = SzSz.item()\n",
    "    \n",
    "    # Cmax\n",
    "    T11 = cp.deepcopy(Tz)\n",
    "    T12 = cp.deepcopy(T)\n",
    "    T21 = cp.deepcopy(T)\n",
    "    T22 = cp.deepcopy(Tz)\n",
    "\n",
    "    T11.SetLabels([0,1,3,4])\n",
    "    T12.SetLabels([2,3,1,6])\n",
    "    T21.SetLabels([4,5,7,0])\n",
    "    T22.SetLabels([6,7,5,2])\n",
    "\n",
    "    Cmax = Tor10.Contract(Tor10.Contract(T11, T12), Tor10.Contract(T21, T22))\n",
    "    Cmax = Cmax.item()\n",
    "\n",
    "    return Z, SzSz, Cmax"
   ]
  },
  {
   "cell_type": "code",
   "execution_count": 15,
   "metadata": {
    "ExecuteTime": {
     "end_time": "2019-06-20T02:53:47.629809Z",
     "start_time": "2019-06-20T02:53:43.560249Z"
    }
   },
   "outputs": [],
   "source": [
    "T_list = np.linspace(0.5, 5.0, 450, endpoint=True)\n",
    "\n",
    "Z_list, SzSz_list, Cmax_list = [], [], []\n",
    "for temp in T_list:\n",
    "    Z, SzSz, Cmax = Ising_NT_Contract(temp)\n",
    "    Z_list.append(Z)\n",
    "    SzSz_list.append(SzSz)\n",
    "    Cmax_list.append(Cmax)"
   ]
  },
  {
   "cell_type": "code",
   "execution_count": 24,
   "metadata": {
    "ExecuteTime": {
     "end_time": "2019-06-20T03:00:18.806004Z",
     "start_time": "2019-06-20T03:00:18.795324Z"
    }
   },
   "outputs": [],
   "source": [
    "L = 2\n",
    "N = L ** 2\n",
    "Tc = 2/np.log(1+np.sqrt(2))\n",
    "Temp = np.array(T_list)\n",
    "\n",
    "Z = np.array(Z_list)\n",
    "E_per_site = np.array(SzSz_list) * (-1 / Z) \n",
    "C_per_site = np.gradient(E_per_site, Temp) / N\n",
    "C_max = np.array(Cmax_list) / Z\n",
    "dC_dT = -np.gradient(C_max, Temp) / N"
   ]
  },
  {
   "cell_type": "code",
   "execution_count": 25,
   "metadata": {
    "ExecuteTime": {
     "end_time": "2019-06-20T03:00:19.816210Z",
     "start_time": "2019-06-20T03:00:19.185663Z"
    }
   },
   "outputs": [
    {
     "data": {
      "image/png": "[encoded data removed]",
      "text/plain": [
       "<Figure size 1152x864 with 4 Axes>"
      ]
     },
     "metadata": {
      "needs_background": "light"
     },
     "output_type": "display_data"
    }
   ],
   "source": [
    "plt.figure(figsize=(16, 12))\n",
    "\n",
    "# Energy per site\n",
    "plt.subplot(2, 2, 1)\n",
    "plt.plot(Temp, E_per_site, '.', label = 'Numerical E/N')\n",
    "plt.axvline(Tc, color='red', label = 'T crit')\n",
    "plt.title('E/N vs T', fontsize=18)\n",
    "plt.xlabel('T(k)', fontsize=14)\n",
    "plt.ylabel('E/N', fontsize=14)\n",
    "plt.legend()\n",
    "plt.grid()\n",
    "\n",
    "# Capacity per site\n",
    "plt.subplot(2, 2, 2)\n",
    "plt.plot(Temp, C_per_site, '.', label = 'Numerical C/N')\n",
    "plt.axvline(Tc, color='red', label = 'T crit')\n",
    "plt.title('Cv/N vs T', fontsize=18)\n",
    "plt.xlabel('T(k)', fontsize=14)\n",
    "plt.ylabel('Cv/N', fontsize=14)\n",
    "plt.legend()\n",
    "plt.grid()\n",
    "\n",
    "# Cmax\n",
    "plt.subplot(2, 2, 3)\n",
    "plt.plot(Temp, C_max, '.', label = 'Numerical Cmax')\n",
    "plt.axvline(Tc, color='red', label = 'T crit')\n",
    "plt.title('Cmax vs T', fontsize=18)\n",
    "plt.xlabel('T(k)', fontsize=14)\n",
    "plt.ylabel('Cmax', fontsize=14)\n",
    "plt.legend()\n",
    "plt.grid()\n",
    "\n",
    "# dC/dT\n",
    "plt.subplot(2, 2, 4)\n",
    "plt.plot(Temp, dC_dT, '.', label = 'Numerical dC/dT')\n",
    "plt.axvline(Tc, color='red', label = 'T crit')\n",
    "plt.title('dC/dT vs T', fontsize=18)\n",
    "plt.xlabel('T(k)', fontsize=14)\n",
    "plt.ylabel('dC/dT', fontsize=14)\n",
    "plt.legend()\n",
    "plt.grid()\n",
    "\n",
    "plt.show()"
   ]
  },
  {
   "cell_type": "markdown",
   "metadata": {},
   "source": [
    "## Problem 4 (Bonus): 4x4 Ising model\n",
    "\n",
    "Perform higher-order TRG to coarse grain a 4x4 tensor network into a 2x2 tensor network. By contracting the (effective) 2x2 tensor network, plot \n",
    "* energy per site,\n",
    "* $C_v$ per site,\n",
    "* $C_{max}=\\langle S_{1,1,} S_{2,2}\\rangle$,\n",
    "* $dC_{max}/dT$,\n",
    "as a function of temperature.\n",
    "\n",
    "Try 8x8 lattice or even larger $2^n \\times 2^n$ lattice."
   ]
  },
  {
   "cell_type": "code",
   "execution_count": null,
   "metadata": {},
   "outputs": [],
   "source": []
  }
 ],
 "metadata": {
  "hide_input": false,
  "kernelspec": {
   "display_name": "Python 3",
   "language": "python",
   "name": "python3"
  },
  "language_info": {
   "codemirror_mode": {
    "name": "ipython",
    "version": 3
   },
   "file_extension": ".py",
   "mimetype": "text/x-python",
   "name": "python",
   "nbconvert_exporter": "python",
   "pygments_lexer": "ipython3",
   "version": "3.7.1"
  },
  "toc": {
   "base_numbering": 1,
   "nav_menu": {},
   "number_sections": false,
   "sideBar": true,
   "skip_h1_title": true,
   "title_cell": "Table of Contents",
   "title_sidebar": "Contents",
   "toc_cell": false,
   "toc_position": {},
   "toc_section_display": true,
   "toc_window_display": false
  },
  "varInspector": {
   "cols": {
    "lenName": 16,
    "lenType": 16,
    "lenVar": 40
   },
   "kernels_config": {
    "python": {
     "delete_cmd_postfix": "",
     "delete_cmd_prefix": "del ",
     "library": "var_list.py",
     "varRefreshCmd": "print(var_dic_list())"
    },
    "r": {
     "delete_cmd_postfix": ") ",
     "delete_cmd_prefix": "rm(",
     "library": "var_list.r",
     "varRefreshCmd": "cat(var_dic_list()) "
    }
   },
   "types_to_exclude": [
    "module",
    "function",
    "builtin_function_or_method",
    "instance",
    "_Feature"
   ],
   "window_display": false
  }
 },
 "nbformat": 4,
 "nbformat_minor": 2
}
