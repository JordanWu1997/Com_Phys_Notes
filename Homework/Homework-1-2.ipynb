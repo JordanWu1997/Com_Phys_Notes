{
 "cells": [
  {
   "cell_type": "markdown",
   "metadata": {},
   "source": [
    "# 10720PHYS401200 Homework-1"
   ]
  },
  {
   "cell_type": "markdown",
   "metadata": {},
   "source": [
    "## Problem 2: Markov-chain sampling of π\n",
    "\n",
    "Implement and run Markov-chain sampling of π, starting $(x,y)=(1,1)$. Convince yourself, choosing a throwing range $\\delta=0.3$, that $Z = N_{hits}/N$ converges towards $\\pi/4$. \n",
    "\n",
    "For a fixed larger $N$, run it **twenty** times and\n",
    "* Plot $\\frac{1}{20} \\sum_{r=1}^{20} (Z_r - \\frac{\\pi}{4})^2$ as a function of $\\delta$ for $\\delta\\in [0, 3]$.\n",
    "* Plot the rejection rate of this algorithm as a function of $\\delta$. \n",
    "\n",
    "Which value of the rejection rate yields the highest precision?"
   ]
  },
  {
   "cell_type": "code",
   "execution_count": 2,
   "metadata": {},
   "outputs": [],
   "source": [
    "# import necessary libraries\n",
    "import matplotlib.pyplot as plt\n",
    "import numpy as np"
   ]
  },
  {
   "cell_type": "code",
   "execution_count": 26,
   "metadata": {
    "scrolled": false
   },
   "outputs": [
    {
     "name": "stdout",
     "output_type": "stream",
     "text": [
      "\n",
      "delta: 0.300\n",
      "Round: 20, Reject_Rate: 14.408500%, N: 10000, Est_π: 3.147080, Error: 0.0001164730\n",
      "\n",
      "delta: 0.600\n",
      "Round: 20, Reject_Rate: 27.960000%, N: 10000, Est_π: 3.122440, Error: 0.0000795724\n",
      "\n",
      "delta: 0.900\n",
      "Round: 20, Reject_Rate: 40.058000%, N: 10000, Est_π: 3.134400, Error: 0.0000719544\n",
      "\n",
      "delta: 1.200\n",
      "Round: 20, Reject_Rate: 51.052000%, N: 10000, Est_π: 3.143780, Error: 0.0000529035\n",
      "\n",
      "delta: 1.500\n",
      "Round: 20, Reject_Rate: 60.970500%, N: 10000, Est_π: 3.152760, Error: 0.0000832963\n",
      "\n",
      "delta: 1.800\n",
      "Round: 20, Reject_Rate: 69.852000%, N: 10000, Est_π: 3.136180, Error: 0.0000923145\n",
      "\n",
      "delta: 2.100\n",
      "Round: 20, Reject_Rate: 77.140500%, N: 10000, Est_π: 3.156340, Error: 0.0001437360\n",
      "\n",
      "delta: 2.400\n",
      "Round: 20, Reject_Rate: 82.621000%, N: 10000, Est_π: 3.132040, Error: 0.0001619282\n",
      "\n",
      "delta: 2.700\n",
      "Round: 20, Reject_Rate: 86.078000%, N: 10000, Est_π: 3.172820, Error: 0.0002316082\n",
      "\n",
      "delta: 3.000\n",
      "Round: 20, Reject_Rate: 88.938000%, N: 10000, Est_π: 3.117080, Error: 0.0002541945\n"
     ]
    }
   ],
   "source": [
    "N_rnd = 20\n",
    "N = 10000\n",
    "x_i, y_i = 1.0, 1.0\n",
    "\n",
    "Sample_reject_rate = []\n",
    "Sample_err = []\n",
    "for delta in np.arange(0.3, 3.3, 0.3):\n",
    "    print('\\ndelta: {:.3f}'.format(delta))\n",
    "    Zrs = []\n",
    "    reject = []\n",
    "    # Run\n",
    "    for run in range(N_rnd):\n",
    "        x, y = x_i, y_i\n",
    "        accept = 0\n",
    "        N_hit = 0\n",
    "        # Monte Carlo loop\n",
    "        for n in range(N):\n",
    "            dx = delta * (np.random.random()*2 - 1)\n",
    "            dy = delta * (np.random.random()*2 - 1)\n",
    "            if abs(x+dx) < 1 and abs(y+dy) < 1:\n",
    "                x += dx\n",
    "                y += dy\n",
    "                accept += 1\n",
    "            else:\n",
    "                x = x\n",
    "                y = y\n",
    "            if x**2 + y**2 <= 1:\n",
    "                N_hit += 1\n",
    "        Zrs.append(N_hit/N)\n",
    "        reject.append((N-accept)/N)\n",
    "    mean, err = (sum(Zrs)/N_rnd), []\n",
    "    for Zr in Zrs:\n",
    "        err.append((Zr-(np.pi/4))**2)\n",
    "    Sample_reject_rate.append(sum(reject)/N_rnd)\n",
    "    Sample_err.append(sum(err)/N_rnd)\n",
    "    print('Round: {}, Reject_Rate: {:.6f}%, N: {}, Est_'.format(N_rnd, 100*sum(reject)/N_rnd, N) \\\n",
    "          + u'\\u03C0'+': {:.6f}'.format(mean*4) + ', Error: {:.10f}'.format(sum(err)/N_rnd))"
   ]
  },
  {
   "cell_type": "code",
   "execution_count": 28,
   "metadata": {},
   "outputs": [
    {
     "data": {
      "image/png": "[encoded data removed]",
      "text/plain": [
       "<Figure size 432x288 with 1 Axes>"
      ]
     },
     "metadata": {
      "needs_background": "light"
     },
     "output_type": "display_data"
    }
   ],
   "source": [
    "delta = np.arange(0.3, 3.3, 0.3)\n",
    "plt.plot(delta, Sample_err, 'ro-', label='Error')\n",
    "plt.legend()\n",
    "plt.title(r'$\\frac{1}{20} \\sum_{r=1}^{20} (Z_r - \\frac{\\pi}{4})^2$', fontsize=16)\n",
    "plt.xlabel(r'delta')\n",
    "plt.ylabel(r'Error')\n",
    "plt.show()"
   ]
  },
  {
   "cell_type": "code",
   "execution_count": 30,
   "metadata": {},
   "outputs": [
    {
     "data": {
      "image/png": "[encoded data removed]",
      "text/plain": [
       "<Figure size 432x288 with 1 Axes>"
      ]
     },
     "metadata": {
      "needs_background": "light"
     },
     "output_type": "display_data"
    }
   ],
   "source": [
    "delta = np.arange(0.3, 3.3, 0.3)\n",
    "plt.plot(delta, Sample_reject_rate, 'bo-', label='Reject Rate')\n",
    "plt.legend()\n",
    "plt.xlabel(r'delta')\n",
    "plt.ylabel(r'Reject Rate')\n",
    "plt.show()"
   ]
  }
 ],
 "metadata": {
  "hide_input": false,
  "kernelspec": {
   "display_name": "Python 3",
   "language": "python",
   "name": "python3"
  },
  "language_info": {
   "codemirror_mode": {
    "name": "ipython",
    "version": 3
   },
   "file_extension": ".py",
   "mimetype": "text/x-python",
   "name": "python",
   "nbconvert_exporter": "python",
   "pygments_lexer": "ipython3",
   "version": "3.7.1"
  },
  "toc": {
   "base_numbering": 1,
   "nav_menu": {},
   "number_sections": true,
   "sideBar": true,
   "skip_h1_title": false,
   "title_cell": "Table of Contents",
   "title_sidebar": "Contents",
   "toc_cell": false,
   "toc_position": {},
   "toc_section_display": true,
   "toc_window_display": false
  },
  "varInspector": {
   "cols": {
    "lenName": 16,
    "lenType": 16,
    "lenVar": 40
   },
   "kernels_config": {
    "python": {
     "delete_cmd_postfix": "",
     "delete_cmd_prefix": "del ",
     "library": "var_list.py",
     "varRefreshCmd": "print(var_dic_list())"
    },
    "r": {
     "delete_cmd_postfix": ") ",
     "delete_cmd_prefix": "rm(",
     "library": "var_list.r",
     "varRefreshCmd": "cat(var_dic_list()) "
    }
   },
   "types_to_exclude": [
    "module",
    "function",
    "builtin_function_or_method",
    "instance",
    "_Feature"
   ],
   "window_display": false
  }
 },
 "nbformat": 4,
 "nbformat_minor": 2
}
