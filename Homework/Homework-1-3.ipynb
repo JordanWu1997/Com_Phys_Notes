{
 "cells": [
  {
   "cell_type": "markdown",
   "metadata": {},
   "source": [
    "# 10720PHYS401200 Homework-1"
   ]
  },
  {
   "cell_type": "markdown",
   "metadata": {},
   "source": [
    "## Problem 3: Data-bunch\n",
    "\n",
    "Implement data-bunch. Test it for a single, very long, simulation of Markov-chain sampling of π with throwing ranges $\\delta \\in \\{0.03, 0.1, 0.3\\}$. Plot apparent error as a function of the size of the bunch."
   ]
  },
  {
   "cell_type": "code",
   "execution_count": 2,
   "metadata": {},
   "outputs": [],
   "source": [
    "# import necessary libraries\n",
    "import matplotlib.pyplot as plt\n",
    "import numpy as np"
   ]
  },
  {
   "cell_type": "code",
   "execution_count": 3,
   "metadata": {},
   "outputs": [],
   "source": [
    "def data_creating(N, x_i, y_i, delta):\n",
    "    '''\n",
    "    I/P: # of data to be created, start_x, start_y, step \n",
    "    O/P: data (a list) whose length is N\n",
    "    '''\n",
    "    x, y = x_i, y_i\n",
    "    data = []\n",
    "    for i in range(N):\n",
    "        dx = delta * (np.random.random()*2 - 1)\n",
    "        dy = delta * (np.random.random()*2 - 1)\n",
    "        if abs(x+dx) < 1 and abs(y+dy) < 1:\n",
    "            x += dx\n",
    "            y += dy\n",
    "        else:\n",
    "            x = x\n",
    "            y = y\n",
    "        if x**2 + y**2 <= 1:\n",
    "            data.append(1)\n",
    "        else:\n",
    "            data.append(0)\n",
    "    return data\n",
    "\n",
    "def data_folding_err(data, Nf, delta):\n",
    "    '''\n",
    "    I/P: data to be folded, times to fold data, step\n",
    "    O/P: (1) Return error\n",
    "         (2) Print mean, est_π, var, std, error \n",
    "    '''\n",
    "    mean = []; var = []; std = []; err = []\n",
    "    print('\\ndelta:{:6f}'.format(delta))\n",
    "    \n",
    "    for j in range(Nf):\n",
    "        temp = []\n",
    "        for i in range(len(data)):\n",
    "            temp.append((data[i] - sum(data)/len(data))**2)\n",
    "        mean.append(sum(data)/len(data))\n",
    "        var.append(sum(temp)/len(data))\n",
    "        std.append((sum(temp)/len(data))**0.5)\n",
    "        err.append((sum(temp)/len(data))**0.5/(len(data)**0.5))\n",
    "        print('N:{:2d}, mean:{:6f}, est_π:{:6f}, var:{:6f}, std:{:6f}, err:{:6f}'.format(j, mean[j], 4*mean[j], var[j], std[j], err[j]))\n",
    "        \n",
    "        new_data = []\n",
    "        for i in range(len(data)-1):\n",
    "            if i % 2 == 0:\n",
    "                new_data.append((data[i]+data[i+1])/2)\n",
    "        data = new_data\n",
    "    return err"
   ]
  },
  {
   "cell_type": "code",
   "execution_count": 5,
   "metadata": {},
   "outputs": [
    {
     "name": "stdout",
     "output_type": "stream",
     "text": [
      "\n",
      "delta:0.030000\n",
      "N: 0, mean:0.625610, est_π:2.502441, var:0.234222, std:0.483965, err:0.003781\n",
      "N: 1, mean:0.625610, est_π:2.502441, var:0.226287, std:0.475697, err:0.005256\n",
      "N: 2, mean:0.625610, est_π:2.502441, var:0.219299, std:0.468294, err:0.007317\n",
      "N: 3, mean:0.625610, est_π:2.502441, var:0.210830, std:0.459163, err:0.010146\n",
      "N: 4, mean:0.625610, est_π:2.502441, var:0.201988, std:0.449431, err:0.014045\n",
      "N: 5, mean:0.625610, est_π:2.502441, var:0.189849, std:0.435717, err:0.019256\n",
      "N: 6, mean:0.625610, est_π:2.502441, var:0.175123, std:0.418477, err:0.026155\n",
      "N: 7, mean:0.625610, est_π:2.502441, var:0.158502, std:0.398123, err:0.035189\n",
      "N: 8, mean:0.625610, est_π:2.502441, var:0.138281, std:0.371861, err:0.046483\n",
      "N: 9, mean:0.625610, est_π:2.502441, var:0.116806, std:0.341769, err:0.060417\n",
      "N:10, mean:0.625610, est_π:2.502441, var:0.084574, std:0.290817, err:0.072704\n",
      "N:11, mean:0.625610, est_π:2.502441, var:0.040943, std:0.202343, err:0.071539\n",
      "N:12, mean:0.625610, est_π:2.502441, var:0.031795, std:0.178312, err:0.089156\n",
      "N:13, mean:0.625610, est_π:2.502441, var:0.000823, std:0.028687, err:0.020284\n",
      "N:14, mean:0.625610, est_π:2.502441, var:0.000000, std:0.000000, err:0.000000\n",
      "\n",
      "delta:0.100000\n",
      "N: 0, mean:0.807312, est_π:3.229248, var:0.155559, std:0.394410, err:0.003081\n",
      "N: 1, mean:0.807312, est_π:3.229248, var:0.143017, std:0.378175, err:0.004178\n",
      "N: 2, mean:0.807312, est_π:3.229248, var:0.132961, std:0.364638, err:0.005697\n",
      "N: 3, mean:0.807312, est_π:3.229248, var:0.121570, std:0.348669, err:0.007705\n",
      "N: 4, mean:0.807312, est_π:3.229248, var:0.110443, std:0.332330, err:0.010385\n",
      "N: 5, mean:0.807312, est_π:3.229248, var:0.097608, std:0.312423, err:0.013807\n",
      "N: 6, mean:0.807312, est_π:3.229248, var:0.075131, std:0.274101, err:0.017131\n",
      "N: 7, mean:0.807312, est_π:3.229248, var:0.051745, std:0.227475, err:0.020106\n",
      "N: 8, mean:0.807312, est_π:3.229248, var:0.036269, std:0.190444, err:0.023805\n",
      "N: 9, mean:0.807312, est_π:3.229248, var:0.023829, std:0.154367, err:0.027288\n",
      "N:10, mean:0.807312, est_π:3.229248, var:0.013881, std:0.117817, err:0.029454\n",
      "N:11, mean:0.807312, est_π:3.229248, var:0.006325, std:0.079530, err:0.028118\n",
      "N:12, mean:0.807312, est_π:3.229248, var:0.000446, std:0.021108, err:0.010554\n",
      "N:13, mean:0.807312, est_π:3.229248, var:0.000133, std:0.011536, err:0.008157\n",
      "N:14, mean:0.807312, est_π:3.229248, var:0.000000, std:0.000000, err:0.000000\n",
      "\n",
      "delta:0.300000\n",
      "N: 0, mean:0.788391, est_π:3.153564, var:0.166831, std:0.408449, err:0.003191\n",
      "N: 1, mean:0.788391, est_π:3.153564, var:0.138724, std:0.372457, err:0.004115\n",
      "N: 2, mean:0.788391, est_π:3.153564, var:0.114020, std:0.337668, err:0.005276\n",
      "N: 3, mean:0.788391, est_π:3.153564, var:0.089964, std:0.299941, err:0.006628\n",
      "N: 4, mean:0.788391, est_π:3.153564, var:0.064471, std:0.253911, err:0.007935\n",
      "N: 5, mean:0.788391, est_π:3.153564, var:0.042252, std:0.205553, err:0.009084\n",
      "N: 6, mean:0.788391, est_π:3.153564, var:0.022218, std:0.149058, err:0.009316\n",
      "N: 7, mean:0.788391, est_π:3.153564, var:0.011915, std:0.109157, err:0.009648\n",
      "N: 8, mean:0.788391, est_π:3.153564, var:0.006667, std:0.081651, err:0.010206\n",
      "N: 9, mean:0.788391, est_π:3.153564, var:0.003957, std:0.062902, err:0.011120\n",
      "N:10, mean:0.788391, est_π:3.153564, var:0.001307, std:0.036159, err:0.009040\n",
      "N:11, mean:0.788391, est_π:3.153564, var:0.000873, std:0.029553, err:0.010449\n",
      "N:12, mean:0.788391, est_π:3.153564, var:0.000325, std:0.018016, err:0.009008\n",
      "N:13, mean:0.788391, est_π:3.153564, var:0.000038, std:0.006165, err:0.004359\n",
      "N:14, mean:0.788391, est_π:3.153564, var:0.000000, std:0.000000, err:0.000000\n"
     ]
    }
   ],
   "source": [
    "Num_Sample = 2**14\n",
    "Num_Fold = 14+1\n",
    "\n",
    "data_003 = data_creating(Num_Sample, 1.0, 1.0, 0.03)\n",
    "data_01 = data_creating(Num_Sample, 1.0, 1.0, 0.1)\n",
    "data_03 = data_creating(Num_Sample, 1.0, 1.0, 0.3)\n",
    "\n",
    "err_003 = data_folding_err(data_003, Num_Fold, 0.03)\n",
    "err_01 = data_folding_err(data_01, Num_Fold, 0.1)\n",
    "err_03 = data_folding_err(data_03, Num_Fold, 0.3)"
   ]
  },
  {
   "cell_type": "code",
   "execution_count": 6,
   "metadata": {},
   "outputs": [
    {
     "data": {
      "image/png": "[encoded data removed]",
      "text/plain": [
       "<Figure size 648x432 with 1 Axes>"
      ]
     },
     "metadata": {
      "needs_background": "light"
     },
     "output_type": "display_data"
    }
   ],
   "source": [
    "data_num = np.arange(0, Num_Fold, 1)\n",
    "\n",
    "plt.figure(figsize=(9,6))\n",
    "plt.plot(data_num, err_003, 'ro-', label=r'error=0.03')\n",
    "plt.plot(data_num, err_01, 'bo-', label=r'error=0.1')\n",
    "plt.plot(data_num, err_03, 'go-', label=r'error=0.3')\n",
    "plt.title(r'Apparent Error')\n",
    "plt.xlabel(r'Folding times')\n",
    "plt.ylabel(r'Error')\n",
    "plt.grid(); plt.legend(); plt.show()"
   ]
  }
 ],
 "metadata": {
  "hide_input": false,
  "kernelspec": {
   "display_name": "Python 3",
   "language": "python",
   "name": "python3"
  },
  "language_info": {
   "codemirror_mode": {
    "name": "ipython",
    "version": 3
   },
   "file_extension": ".py",
   "mimetype": "text/x-python",
   "name": "python",
   "nbconvert_exporter": "python",
   "pygments_lexer": "ipython3",
   "version": "3.7.1"
  },
  "toc": {
   "base_numbering": 1,
   "nav_menu": {},
   "number_sections": true,
   "sideBar": true,
   "skip_h1_title": false,
   "title_cell": "Table of Contents",
   "title_sidebar": "Contents",
   "toc_cell": false,
   "toc_position": {},
   "toc_section_display": true,
   "toc_window_display": false
  },
  "varInspector": {
   "cols": {
    "lenName": 16,
    "lenType": 16,
    "lenVar": 40
   },
   "kernels_config": {
    "python": {
     "delete_cmd_postfix": "",
     "delete_cmd_prefix": "del ",
     "library": "var_list.py",
     "varRefreshCmd": "print(var_dic_list())"
    },
    "r": {
     "delete_cmd_postfix": ") ",
     "delete_cmd_prefix": "rm(",
     "library": "var_list.r",
     "varRefreshCmd": "cat(var_dic_list()) "
    }
   },
   "types_to_exclude": [
    "module",
    "function",
    "builtin_function_or_method",
    "instance",
    "_Feature"
   ],
   "window_display": false
  }
 },
 "nbformat": 4,
 "nbformat_minor": 2
}
