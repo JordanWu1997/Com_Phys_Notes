{
 "cells": [
  {
   "cell_type": "markdown",
   "metadata": {},
   "source": [
    "# 10720PHYS401200 Homework-1"
   ]
  },
  {
   "cell_type": "markdown",
   "metadata": {},
   "source": [
    "## Problem 1: Direct sampling of π\n",
    "\n",
    "Implement direct samplig of π. Run it **twenty** times each for $N=10^0, 10^1, 10^2, \\dots, 10^8$. Define $Z_r(N)=N_{hit}/N$, where $r=1,\\dots, 20$. Convince yourself that $Z_r(N)$ converges towards $\\pi/4$ as $N\\rightarrow \\infty$. Find\n",
    "$$\n",
    "  \\frac{1}{20} \\sum_{r=1}^{20} \\left(Z_r(N)-\\frac{\\pi}{4}\\right)^2\n",
    "$$\n",
    "and\n",
    "$$\n",
    "  \\frac{1}{20} \\sum_{r=1}^{20} \\left(Z_r(N)-\\bar{Z}(N)\\right)^2\n",
    "$$\n",
    "from the runs and plot them as a function of $N$. Estimate how do they scale with $N$?\n",
    "\n",
    "**Note:** For a set of data from a simulation, $x_i$, $(i=1,\\dots,N)$, i.e., a *sample* of data. The sample mean $\\bar{x}$ and the sample standard deviation $s$ are defined by\n",
    "$$\n",
    "  \\bar{x} \\equiv \\frac{1}{N} \\sum_{i=1}^N x_i, \\;\n",
    "  s^2 \\equiv \\frac{1}{N} \\sum_{i=1}^N (x_i - \\bar{x})^2.\n",
    "$$"
   ]
  },
  {
   "cell_type": "code",
   "execution_count": 1,
   "metadata": {},
   "outputs": [],
   "source": [
    "# import necessary libraries\n",
    "import matplotlib.pyplot as plt\n",
    "import numpy as np"
   ]
  },
  {
   "cell_type": "markdown",
   "metadata": {},
   "source": [
    "### Note: My computer can only compute to $N = 10^6$"
   ]
  },
  {
   "cell_type": "code",
   "execution_count": 1,
   "metadata": {
    "scrolled": false
   },
   "outputs": [
    {
     "name": "stdout",
     "output_type": "stream",
     "text": [
      "\n",
      "N_Run      Est of π   Error          Std       \n",
      "    1      3.400000   0.1316733973   0.1275000000\n",
      "\n",
      "N_Run      Est of π   Error          Std       \n",
      "    10     3.160000   0.0189211769   0.0189000000\n",
      "\n",
      "N_Run      Est of π   Error          Std       \n",
      "   100     3.076000   0.0018378998   0.0015690000\n",
      "\n",
      "N_Run      Est of π   Error          Std       \n",
      "   1000    3.146400   0.0001674844   0.0001660400\n",
      "\n",
      "N_Run      Est of π   Error          Std       \n",
      "  10000    3.140660   0.0000138596   0.0000138053\n",
      "\n",
      "N_Run      Est of π   Error          Std       \n",
      "  100000   3.140718   0.0000029491   0.0000029013\n",
      "\n",
      "N_Run      Est of π   Error          Std       \n",
      " 1000000   3.141498   0.0000003065   0.0000003059\n",
      "\n",
      "N_Run      Est of π   Error          Std       \n",
      " 10000000  3.141457   0.0000000386   0.0000000375\n",
      "\n",
      "N_Run      Est of π   Error          Std       \n",
      "100000000  3.141611   0.0000000020   0.0000000019\n"
     ]
    }
   ],
   "source": [
    "N_num = [10**i for i in range(7)]\n",
    "N_power = [i for i in range(len(N_num))]\n",
    "N_rnd = 20\n",
    "\n",
    "Sample_err = []\n",
    "Sample_mean = []\n",
    "Sample_std = []\n",
    "for N in N_num:\n",
    "    Zrs = []\n",
    "    print('\\n{:10s} {:10s} {:14s} {:10s}'.format('N_Run', 'Est of π', 'Error', 'Std'))\n",
    "    for run in range(N_rnd):\n",
    "        N_hit = 0\n",
    "        for hit in range(N):\n",
    "            x = np.random.random()*2 - 1\n",
    "            y = np.random.random()*2 - 1\n",
    "            if x**2 + y**2 <= 1:\n",
    "                N_hit += 1\n",
    "        Zrs.append(N_hit/N)\n",
    "    mean, err, std = (sum(Zrs)/N_rnd), [], []\n",
    "    for Zr in Zrs:\n",
    "        err.append((Zr-(np.pi/4))**2)\n",
    "        std.append((Zr-mean)**2)\n",
    "    Sample_err.append(sum(err)/N_rnd)\n",
    "    Sample_std.append(sum(std)/N_rnd)\n",
    "    Sample_mean.append(sum(Zrs)/N_rnd)\n",
    "    print('{:^10d} {:.6f}   {:.10f}   {:.10f}'.format(N, mean*4, sum(err)/N_rnd, sum(std)/N_rnd))"
   ]
  },
  {
   "cell_type": "code",
   "execution_count": 11,
   "metadata": {},
   "outputs": [
    {
     "data": {
      "image/png": "[encoded data removed]",
      "text/plain": [
       "<Figure size 864x432 with 2 Axes>"
      ]
     },
     "metadata": {
      "needs_background": "light"
     },
     "output_type": "display_data"
    }
   ],
   "source": [
    "plt.figure(figsize=(12,6))\n",
    "plt.subplot(1,2,1)\n",
    "plt.plot(N_power, Sample_err, 'ro-', label='Sample_Error')\n",
    "plt.title(r'$\\frac{1}{20} \\sum_{r=1}^{20} \\left(Z_r(N)-\\frac{\\pi}{4}\\right)^2$', fontsize=16)\n",
    "plt.xlabel(r'N_power')\n",
    "plt.ylabel(r'Error')\n",
    "plt.legend()\n",
    "plt.subplot(1,2,2)\n",
    "plt.plot(N_power, Sample_std, 'bo-', label='Sample_std^2')\n",
    "plt.title(r'$\\frac{1}{20} \\sum_{r=1}^{20} \\left(Z_r(N)-\\bar{Z}(N)\\right)^2$', fontsize=16)\n",
    "plt.xlabel(r'N_power')\n",
    "plt.ylabel(r'Std^2')\n",
    "plt.legend()\n",
    "plt.show()"
   ]
  }
 ],
 "metadata": {
  "hide_input": false,
  "kernelspec": {
   "display_name": "Python 3",
   "language": "python",
   "name": "python3"
  },
  "language_info": {
   "codemirror_mode": {
    "name": "ipython",
    "version": 3
   },
   "file_extension": ".py",
   "mimetype": "text/x-python",
   "name": "python",
   "nbconvert_exporter": "python",
   "pygments_lexer": "ipython3",
   "version": "3.7.1"
  },
  "toc": {
   "base_numbering": 1,
   "nav_menu": {},
   "number_sections": true,
   "sideBar": true,
   "skip_h1_title": false,
   "title_cell": "Table of Contents",
   "title_sidebar": "Contents",
   "toc_cell": false,
   "toc_position": {},
   "toc_section_display": true,
   "toc_window_display": false
  },
  "varInspector": {
   "cols": {
    "lenName": 16,
    "lenType": 16,
    "lenVar": 40
   },
   "kernels_config": {
    "python": {
     "delete_cmd_postfix": "",
     "delete_cmd_prefix": "del ",
     "library": "var_list.py",
     "varRefreshCmd": "print(var_dic_list())"
    },
    "r": {
     "delete_cmd_postfix": ") ",
     "delete_cmd_prefix": "rm(",
     "library": "var_list.r",
     "varRefreshCmd": "cat(var_dic_list()) "
    }
   },
   "types_to_exclude": [
    "module",
    "function",
    "builtin_function_or_method",
    "instance",
    "_Feature"
   ],
   "window_display": false
  }
 },
 "nbformat": 4,
 "nbformat_minor": 2
}
