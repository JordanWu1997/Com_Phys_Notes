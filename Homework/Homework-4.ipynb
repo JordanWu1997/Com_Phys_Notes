{
 "cells": [
  {
   "cell_type": "markdown",
   "metadata": {},
   "source": [
    "# 10720PHYS401200 Homework-4"
   ]
  },
  {
   "cell_type": "markdown",
   "metadata": {},
   "source": [
    "## Problem 1: Singular values of Bell states and random states.\n",
    "\n",
    "Consider a two spin-1/2 system with basis $|11\\rangle,|10\\rangle,|01\\rangle,|00\\rangle$. An arbitrary state can be expressed as $|\\psi\\rangle=\\sum_{i,j}\\psi_{i,j}|ij\\rangle$. The Bell states are\n",
    "$$\n",
    "\\frac{1}{\\sqrt{2}}|00\\rangle+|11\\rangle,\n",
    "\\frac{1}{\\sqrt{2}}|00\\rangle-|11\\rangle,\n",
    "\\frac{1}{\\sqrt{2}}|01\\rangle+|10\\rangle,\n",
    "\\frac{1}{\\sqrt{2}}|01\\rangle-|10\\rangle.\n",
    "$$\n",
    "\n",
    "* Now treat $\\psi_{i,j}$ as matrix elements and perform SVD to get singular values $\\lambda_1, \\lambda_2$.\n",
    "* The entanglement entropy $S$ is defined as $S= -\\sum_i \\lambda_i \\ln \\lambda_i$. Find the entanglement entropy of the Bell states.\n",
    "* Perform the same analysis on random state. What is the average entanglement entropy?"
   ]
  },
  {
   "cell_type": "code",
   "execution_count": 1,
   "metadata": {
    "ExecuteTime": {
     "end_time": "2019-05-27T15:13:23.299456Z",
     "start_time": "2019-05-27T15:13:22.216261Z"
    }
   },
   "outputs": [],
   "source": [
    "import Tor10\n",
    "import copy\n",
    "import numpy as np\n",
    "import matplotlib.pyplot as plt"
   ]
  },
  {
   "cell_type": "code",
   "execution_count": 7,
   "metadata": {
    "ExecuteTime": {
     "end_time": "2019-05-27T07:36:19.783082Z",
     "start_time": "2019-05-27T07:35:33.051379Z"
    },
    "code_folding": []
   },
   "outputs": [
    {
     "name": "stdout",
     "output_type": "stream",
     "text": [
      "Bell State |00>+|11> entanglement entropy: 0.490129\n",
      "Bell State |00>-|11> entanglement entropy: 0.490129\n",
      "Bell State |01>+|10> entanglement entropy: 0.490129\n",
      "Bell State |01>-|10> entanglement entropy: 0.490129\n",
      "Rand State mean entropy for 100000 rounds: 0.137751\n"
     ]
    }
   ],
   "source": [
    "bd = Tor10.Bond(2) \n",
    "up_ket = Tor10.UniTensor(bonds=[bd], N_rowrank=1, name=\"|+>\")\n",
    "up_ket.SetElem([1, 0])\n",
    "dn_ket = Tor10.UniTensor(bonds=[bd], N_rowrank=1, name=\"|->\")\n",
    "dn_ket.SetElem([0, 1])\n",
    "\n",
    "up1_ket = copy.deepcopy(up_ket)\n",
    "up2_ket = copy.deepcopy(up_ket)\n",
    "dn1_ket = copy.deepcopy(dn_ket)\n",
    "dn2_ket = copy.deepcopy(dn_ket)\n",
    "\n",
    "up1_ket.SetLabels([0])\n",
    "up2_ket.SetLabels([1])\n",
    "dn1_ket.SetLabels([0])\n",
    "dn2_ket.SetLabels([1])\n",
    "\n",
    "up1up2_ket = Tor10.Contract(up1_ket, up2_ket)\n",
    "up1up2_ket.SetName('|11>')\n",
    "up1dn2_ket = Tor10.Contract(up1_ket, dn2_ket)\n",
    "up1dn2_ket.SetName('|10>')\n",
    "dn1up2_ket = Tor10.Contract(dn1_ket, up2_ket)\n",
    "dn1up2_ket.SetName('|01>')\n",
    "dn1dn2_ket = Tor10.Contract(dn1_ket, dn2_ket)\n",
    "dn1dn2_ket.SetName('|00>')\n",
    "\n",
    "Bell1 = (dn1dn2_ket + up1up2_ket) / (2**0.5)\n",
    "Bell1.Permute([0,1], N_rowrank=1)\n",
    "Bell2 = (dn1dn2_ket - up1up2_ket ) / (2**0.5)\n",
    "Bell2.Permute([0,1], N_rowrank=1)\n",
    "Bell3 = (dn1up2_ket + up1dn2_ket) / (2**0.5)\n",
    "Bell3.Permute([0,1], N_rowrank=1)\n",
    "Bell4 = (dn1up2_ket - up1dn2_ket) / (2**0.5)\n",
    "Bell4.Permute([0,1], N_rowrank=1)\n",
    "\n",
    "u1, s1, vt1 = Bell1.Svd()\n",
    "u2, s2, vt2 = Bell2.Svd()\n",
    "u3, s3, vt3 = Bell3.Svd()\n",
    "u4, s4, vt4 = Bell4.Svd()\n",
    "\n",
    "s = [s1, s2, s3, s4]\n",
    "Bell = ['|00>+|11>', '|00>-|11>', '|01>+|10>', '|01>-|10>']\n",
    "for i, state in enumerate(Bell):\n",
    "    S = 0\n",
    "    for j in range(len(s[i])):\n",
    "        S += -1*(s[i][j].item()) * np.log(s[i][j].item())\n",
    "    print('Bell State %s entanglement entropy: %.6f' % (state, S))\n",
    "\n",
    "runs = 1\n",
    "rounds = 100000\n",
    "for _ in range(runs):\n",
    "    S_list = []\n",
    "    for i in range(rounds):\n",
    "        bd = Tor10.Bond(2)\n",
    "        Random = Tor10.UniTensor([bd, bd], N_rowrank=1, name='Random', labels=[0,1])\n",
    "        Random.Rand()\n",
    "        u, s,vt = Random.Svd()\n",
    "        S = 0\n",
    "        for j in range(len(s)):\n",
    "            S += -1*s[j].item() * np.log(s[j].item())\n",
    "        S_list.append(S)\n",
    "    print('Rand State mean entropy for %i rounds: %.6f' % (rounds, np.mean(S_list)))"
   ]
  },
  {
   "cell_type": "markdown",
   "metadata": {},
   "source": [
    "## Problem 2: iTEBD for 1D quantum transverse field Ising model\n",
    "\n",
    "Implement iTEBD algorithm for the 1D (ferromagnetic) Transfer Field Ising Model (TFIM) with following Hamiltonian:\n",
    "$$\n",
    "  H \n",
    "  = \\sum_i -J \\sigma^z_i \\sigma^z_{i+1} - h \\sigma^x_i\n",
    "  = \\sum_i -J \\sigma^z_i \\sigma^z_{i+1} - \\frac{h}{2} \\left( \\sigma^x_i I_{i+1} + I_i \\sigma^x_{i+1}\\right)\n",
    "  = \\sum_i h_{i,i+1}.\n",
    "$$\n",
    "$$\n",
    "  h_{i,i+1} = -J \\sigma^z_i \\sigma^z_{i+1} - \\frac{h}{2} \\left( \\sigma^x_i I_{i+1} + I_i \\sigma^x_{i+1}\\right).\n",
    "$$\n",
    "\n",
    "You can set $J=1$ as the energy unit."
   ]
  },
  {
   "cell_type": "markdown",
   "metadata": {},
   "source": [
    "Show that\n",
    "* For $J=1$, $h=0$ one has $\\langle \\sigma^z\\rangle=\\pm 1$ and $\\langle \\sigma^x\\rangle=0$.\n",
    "* FOr $J=1$, $h\\gg 1$ one has $\\langle \\sigma^z\\rangle \\approx 0$ and $\\langle \\sigma^x \\rangle \\approx 1$.\n",
    "\n",
    "Plot\n",
    "* $\\langle E \\rangle$ as a function of $h$,\n",
    "* $\\langle \\sigma^z\\rangle$ as a function of $h$,\n",
    "* $\\langle \\sigma^x\\rangle$ as a function of $h$,\n",
    "for a couple of different bond dimensions $D$. \n",
    "\n",
    "Show that the there is a critical point near $h=1$."
   ]
  },
  {
   "cell_type": "code",
   "execution_count": 2,
   "metadata": {
    "ExecuteTime": {
     "end_time": "2019-05-27T15:13:26.014440Z",
     "start_time": "2019-05-27T15:13:25.945479Z"
    }
   },
   "outputs": [
    {
     "name": "stdout",
     "output_type": "stream",
     "text": [
      "Operator setting complete ...\n"
     ]
    }
   ],
   "source": [
    "# one-site operators\n",
    "Id = Tor10.UniTensor(bonds=[Tor10.Bond(2), Tor10.Bond(2)], N_rowrank=1, name = 'Id')\n",
    "Id.SetElem([1, 0,\\\n",
    "            0, 1])\n",
    "Sx = Tor10.UniTensor(bonds=[Tor10.Bond(2), Tor10.Bond(2)], N_rowrank=1, name = 'Sx')\n",
    "Sx.SetElem([0, 1,\\\n",
    "            1, 0])\n",
    "Sz = Tor10.UniTensor(bonds=[Tor10.Bond(2), Tor10.Bond(2)], N_rowrank=1, name = 'Sz')\n",
    "Sz.SetElem([1, 0,\\\n",
    "            0,-1])\n",
    "\n",
    "# attach site index\n",
    "Id1 = copy.deepcopy(Id)\n",
    "Id2 = copy.deepcopy(Id)\n",
    "Sx1 = copy.deepcopy(Sx)\n",
    "Sx2 = copy.deepcopy(Sx)\n",
    "Sz1 = copy.deepcopy(Sz)\n",
    "Sz2 = copy.deepcopy(Sz)\n",
    "\n",
    "# two-site operators\n",
    "# Sz1⨂Sz2\n",
    "Sz1.SetLabels([0, 2])\n",
    "Sz2.SetLabels([1, 3])\n",
    "Sz1_Sz2 = Tor10.Contract(Sz1, Sz2)\n",
    "Sz1_Sz2.SetName('Sz1⨂Sz2')\n",
    "\n",
    "# Sx1⨂Id2\n",
    "Sx1.SetLabels([0, 2])\n",
    "Id2.SetLabels([1, 3])\n",
    "Sx1_Id2 = Tor10.Contract(Sx1, Id2)\n",
    "Sx1_Id2.SetName('Sx1⨂Id2')\n",
    "\n",
    "# Id1⨂Sx2\n",
    "Id1.SetLabels([0, 2])\n",
    "Sx2.SetLabels([1, 3])\n",
    "Id1_Sx2 = Tor10.Contract(Id1, Sx2)\n",
    "Id1_Sx2.SetName('Id1⨂Sx2')\n",
    "\n",
    "# Sz1⨂Id2\n",
    "Sz1.SetLabels([0, 2])\n",
    "Id2.SetLabels([1, 3])\n",
    "Sz1_Id2 = Tor10.Contract(Sz1, Id2)\n",
    "Sz1_Id2.SetName('Sz1⨂Id2')\n",
    "\n",
    "# Id1⨂Sz2\n",
    "Id1.SetLabels([0, 2])\n",
    "Sz2.SetLabels([1, 3])\n",
    "Id1_Sz2 = Tor10.Contract(Id1, Sz2)\n",
    "Id1_Sz2.SetName('Id1⨂Sx2')\n",
    "\n",
    "print('Operator setting complete ...')"
   ]
  },
  {
   "cell_type": "code",
   "execution_count": 3,
   "metadata": {
    "ExecuteTime": {
     "end_time": "2019-05-27T15:13:26.814350Z",
     "start_time": "2019-05-27T15:13:26.776128Z"
    }
   },
   "outputs": [],
   "source": [
    "def ITEBD(hx=1.0, D=20, dtau=0.1, J=1.0, loop=100):\n",
    "    Ham_12 = Sz1_Sz2*(-J) - (Sx1_Id2+Id1_Sx2)*hx/2\n",
    "    Ham_12.SetName('Ham_12')\n",
    "    expH = Tor10.ExpH(Ham_12.GetBlock()*(-dtau))\n",
    "    expH_12 = Tor10.UniTensor(bonds=Ham_12.bonds, N_rowrank=2, name='exp(H_12*(-dtau))')\n",
    "    expH_12.PutBlock(expH)\n",
    "    \n",
    "    ## Create MPS:\n",
    "    #\n",
    "    #     |    |     \n",
    "    #   --A-la-B-lb-- \n",
    "    \n",
    "    A = Tor10.UniTensor(bonds=[Tor10.Bond(D), Tor10.Bond(2), Tor10.Bond(D)], N_rowrank=1, labels=[-1,0,-2])\n",
    "    A.Rand()\n",
    "    A.SetName('A')\n",
    "    \n",
    "    B = Tor10.UniTensor(bonds=A.bonds,N_rowrank=1,labels=[-3,1,-4])\n",
    "    B.Rand()\n",
    "    B.SetName('B')\n",
    "\n",
    "    la = Tor10.UniTensor(bonds=[Tor10.Bond(D),Tor10.Bond(D)], N_rowrank=1, labels=[-2,-3],is_diag=True)\n",
    "    la.Rand()\n",
    "    la.SetName('la')\n",
    "\n",
    "    lb = Tor10.UniTensor(bonds=la.bonds, N_rowrank=1, labels=[-4,-5],is_diag=True)\n",
    "    lb.Rand()\n",
    "    lb.SetName('lb')\n",
    "\n",
    "    for i in range(100):\n",
    "        A.SetLabels([-1,0,-2])\n",
    "        B.SetLabels([-3,1,-4])\n",
    "        la.SetLabels([-2,-3])\n",
    "        lb.SetLabels([-4,-5])\n",
    "\n",
    "        ## X =\n",
    "        #           (0)  (1)\n",
    "        #            |    |     \n",
    "        #  (-4) --lb-A-la-B-lb-- (-5) \n",
    "            \n",
    "        X = Tor10.Contract(Tor10.Contract(A,la),Tor10.Contract(B,lb))\n",
    "        lb.SetLabel(-1,idx=1)\n",
    "        X = Tor10.Contract(lb,X)  \n",
    "        X.SetName('X')\n",
    "    \n",
    "        # <MPS|MPS>\n",
    "        XNorm = Tor10.Contract(X, X)\n",
    "        \n",
    "        # <MPS|Ham_12|MPS>    \n",
    "        XH = Tor10.Contract(X, Ham_12)\n",
    "        XH.SetName('XH')\n",
    "        XH.SetLabels([-4,-5,0,1])\n",
    "        XHX = Tor10.Contract(X, XH)\n",
    "        E = XHX / XNorm\n",
    "\n",
    "        # <MPS|Id1_Sz2|MPS>    \n",
    "        Z2H = Tor10.Contract(X, Id1_Sz2)\n",
    "        Z2H.SetName('Z2H')\n",
    "        Z2H.SetLabels([-4,-5,0,1])\n",
    "        XZ2X = Tor10.Contract(X, Z2H)\n",
    "        \n",
    "        # <MPS|Id1_Sx2|MPS>    \n",
    "        X2H = Tor10.Contract(X, Id1_Sx2)\n",
    "        X2H.SetName('Z2H')\n",
    "        X2H.SetLabels([-4,-5,0,1])\n",
    "        XX2X = Tor10.Contract(X, X2H)\n",
    "        \n",
    "        # imaginary time evolution\n",
    "        XeH = Tor10.Contract(X,expH_12)\n",
    "        XeH.SetName('XeH')\n",
    "        XeH.Permute([-4,2,3,-5],by_label=True)\n",
    "        XeH.Contiguous()\n",
    "        XeH = XeH.Reshape([D*2,D*2],N_rowrank=1)\n",
    "    \n",
    "        A,la,B = Tor10.Svd_truncate(XeH,D)\n",
    "        la *= la.Norm()**-1 # re-normalize the norm of la\n",
    "        A = A.Reshape([D,2,D], new_labels=[-1,0,-2], N_rowrank=1)\n",
    "        B = B.Reshape([D,2,D], new_labels=[-3,1,-4], N_rowrank=1)\n",
    "\n",
    "        # de-contract the lb tensor , so it returns to \n",
    "        #             \n",
    "        #            |     |     \n",
    "        #       --lb-A'-la-B'-lb-- \n",
    "        #\n",
    "        # again, but A' and B' are updated \n",
    "\n",
    "        lb_inv = Tor10.Inverse(lb)\n",
    "        A = Tor10.Contract(lb_inv, A)\n",
    "        B = Tor10.Contract(B, lb_inv)\n",
    "\n",
    "        # translation symmetry, exchange A and B site\n",
    "        A,B = B,A\n",
    "        la,lb = lb,la\n",
    "        \n",
    "    return E, XZ2X, XX2X"
   ]
  },
  {
   "cell_type": "markdown",
   "metadata": {},
   "source": [
    "### Part1 - Show that\n",
    "* For $J=1$, $h=0$ one has $\\langle \\sigma^z\\rangle=\\pm 1$ and $\\langle \\sigma^x\\rangle=0$.\n",
    "* FOr $J=1$, $h\\gg 1$ one has $\\langle \\sigma^z\\rangle \\approx 0$ and $\\langle \\sigma^x \\rangle \\approx 1$."
   ]
  },
  {
   "cell_type": "code",
   "execution_count": 4,
   "metadata": {
    "ExecuteTime": {
     "end_time": "2019-05-27T15:13:29.104808Z",
     "start_time": "2019-05-27T15:13:27.966153Z"
    }
   },
   "outputs": [],
   "source": [
    "E1, Z1, X1 = ITEBD(hx=  0.0, D=10, dtau=0.1, J=1.0, loop=1000)\n",
    "E2, Z2, X2 = ITEBD(hx=100.0, D=10, dtau=0.1, J=1.0, loop=1000)"
   ]
  },
  {
   "cell_type": "code",
   "execution_count": 5,
   "metadata": {
    "ExecuteTime": {
     "end_time": "2019-05-27T15:13:29.179926Z",
     "start_time": "2019-05-27T15:13:29.169482Z"
    }
   },
   "outputs": [
    {
     "name": "stdout",
     "output_type": "stream",
     "text": [
      "J=1, h=  0, ⟨𝜎𝑧⟩=0.9999999996, ⟨𝜎𝑥⟩=0.0000000046\n",
      "J=1, h=100, ⟨𝜎𝑧⟩=0.0000000000, ⟨𝜎𝑥⟩=0.9999750012\n"
     ]
    }
   ],
   "source": [
    "print('J=1, h=  0, ⟨𝜎𝑧⟩=%.10f, ⟨𝜎𝑥⟩=%.10f' % (Z1.item(), X1.item()))\n",
    "print('J=1, h=100, ⟨𝜎𝑧⟩=%.10f, ⟨𝜎𝑥⟩=%.10f' % (Z2.item(), X2.item()))"
   ]
  },
  {
   "cell_type": "markdown",
   "metadata": {},
   "source": [
    "### Part2 - Plot\n",
    "* $\\langle E \\rangle$ as a function of $h$,\n",
    "* $\\langle \\sigma^z\\rangle$ as a function of $h$,\n",
    "* $\\langle \\sigma^x\\rangle$ as a function of $h$,\n",
    "for a couple of different bond dimensions $D$. \n",
    "\n",
    "Show that the there is a critical point near $h=1$."
   ]
  },
  {
   "cell_type": "code",
   "execution_count": 7,
   "metadata": {
    "ExecuteTime": {
     "end_time": "2019-05-27T15:27:25.007442Z",
     "start_time": "2019-05-27T15:23:48.276052Z"
    },
    "scrolled": false
   },
   "outputs": [
    {
     "name": "stdout",
     "output_type": "stream",
     "text": [
      "D=5 ...\n",
      "D=10 ...\n",
      "D=15 ...\n",
      "D=20 ...\n"
     ]
    },
    {
     "data": {
      "image/png": "[encoded data removed]",
      "text/plain": [
       "<Figure size 1728x576 with 4 Axes>"
      ]
     },
     "metadata": {
      "needs_background": "light"
     },
     "output_type": "display_data"
    }
   ],
   "source": [
    "points = 100\n",
    "D_list = [5, 10, 15, 20]\n",
    "h_list = np.linspace(0, 4, points, endpoint=True)\n",
    "ylabel_list = [r'⟨E⟩', r'$⟨\\sigma_z⟩$', r'$⟨\\sigma_x⟩$', r'abs $⟨\\sigma_z⟩$']\n",
    "title_list = [r'⟨E⟩ vs h', r'$⟨\\sigma_z⟩$ vs h', r'$⟨\\sigma_x⟩$ vs h', r'abs $⟨\\sigma_z⟩$ vs h']\n",
    "\n",
    "fig, axes = plt.subplots(1, 4, figsize=(24, 8))\n",
    "for D in D_list:\n",
    "    print('D=%i ...' % D)\n",
    "    \n",
    "    E_list, Z_list, X_list, abs_Z_list = [], [], [], []\n",
    "    for h in h_list:\n",
    "        E, Z, X = ITEBD(hx=h, D=D)\n",
    "        E_list.append(E.item())\n",
    "        Z_list.append(Z.item())\n",
    "        X_list.append(X.item())\n",
    "        abs_Z_list.append(abs(Z.item()))\n",
    "                          \n",
    "    plot_list = [E_list, Z_list, X_list, abs_Z_list]    \n",
    "    for i in range(len(plot_list)):\n",
    "        axes[i].plot(h_list, plot_list[i], 'o', label='D=%i' % D)\n",
    "        axes[i].set_title(title_list[i], fontsize=16)\n",
    "        axes[i].set_ylabel(ylabel_list[i], fontsize=14)\n",
    "        axes[i].set_xlabel('h', fontsize=14)\n",
    "        axes[i].legend()\n",
    "\n",
    "for i in range(len(plot_list)):\n",
    "    axes[i].vlines(x=1.0, ymin=min(plot_list[i]), ymax=max(plot_list[i]), linestyles='dashed', label='h=1.0')\n",
    "plt.savefig('result.png')\n",
    "plt.show()"
   ]
  }
 ],
 "metadata": {
  "hide_input": false,
  "kernelspec": {
   "display_name": "Python 3",
   "language": "python",
   "name": "python3"
  },
  "language_info": {
   "codemirror_mode": {
    "name": "ipython",
    "version": 3
   },
   "file_extension": ".py",
   "mimetype": "text/x-python",
   "name": "python",
   "nbconvert_exporter": "python",
   "pygments_lexer": "ipython3",
   "version": "3.7.1"
  },
  "toc": {
   "base_numbering": 1,
   "nav_menu": {},
   "number_sections": true,
   "sideBar": true,
   "skip_h1_title": true,
   "title_cell": "Table of Contents",
   "title_sidebar": "Contents",
   "toc_cell": false,
   "toc_position": {},
   "toc_section_display": true,
   "toc_window_display": false
  },
  "varInspector": {
   "cols": {
    "lenName": 16,
    "lenType": 16,
    "lenVar": 40
   },
   "kernels_config": {
    "python": {
     "delete_cmd_postfix": "",
     "delete_cmd_prefix": "del ",
     "library": "var_list.py",
     "varRefreshCmd": "print(var_dic_list())"
    },
    "r": {
     "delete_cmd_postfix": ") ",
     "delete_cmd_prefix": "rm(",
     "library": "var_list.r",
     "varRefreshCmd": "cat(var_dic_list()) "
    }
   },
   "types_to_exclude": [
    "module",
    "function",
    "builtin_function_or_method",
    "instance",
    "_Feature"
   ],
   "window_display": false
  }
 },
 "nbformat": 4,
 "nbformat_minor": 2
}
