{
 "cells": [
  {
   "cell_type": "markdown",
   "metadata": {},
   "source": [
    "# Tensor Network\n",
    "- ## 1D Quantum system\n",
    "    - Matrix Product State (MPS)\n",
    "    - Density Matrix Renormalization Group (DMRG), earlier than MPS.\n",
    "- ## 2D Classical system\n",
    "    - 2D Ising Model\n",
    "    - Partition Function"
   ]
  },
  {
   "cell_type": "markdown",
   "metadata": {},
   "source": [
    "## Matrix Product State (MPS)\n",
    "\n",
    "$\\hat{H}\\left|n\\right\\rangle = \\epsilon_n\\left|n\\right\\rangle$\n",
    "\n",
    "$\\left|\\psi\\right\\rangle=\\sum_{s_1}^{s_k}\\left|s_1\\dots s_k\\right\\rangle$\n",
    "\n",
    "$\\left|\\psi\\right\\rangle_{MPS}=\\sum_{s_1}^{s_k}Tr([A_1(s_1)][A_2(s_2)]\\dots[A_N(s_N)])\\left|s_1\\dots s_k\\right\\rangle$\n",
    "\n",
    "\n",
    "$\\left|\\psi\\right\\rangle_{MPS}=\\sum_{s_1}^{s_k}([A_1(s_1)][A_2(s_2)]\\dots[A_N(s_N)])\\left|s_1\\dots s_k\\right\\rangle$\n",
    "\n",
    "$Given~any~states~\\psi_{s_1\\dots s_n}\\rightarrow exact~\\left|\\psi\\right\\rangle_{MPS}~$"
   ]
  },
  {
   "cell_type": "markdown",
   "metadata": {},
   "source": [
    "## Singular Value Decomposition (SVD)\n",
    "$[M]_{N_A, N_B} = [U]_{N_A,D}[S]_{D,D}[V^\\dagger]_{D,N_B}, ~where~S:singular~values~(\\ge0)$\n",
    "\n",
    "- $(1)N_A<N_B,~then~M_{N_A, N_B} = U_{N_A, N_A}~S_{N_A, N_A}~V^\\dagger_{N_A, N_B}$\n",
    "\n",
    "- $(2)N_A>N_B,~then~M_{N_A, N_B} = U_{N_A, N_B}~S_{N_B, N_B}~V^\\dagger_{N_B, N_B}$\n",
    "\n",
    "$M_{ij} = \\sum_kU_{ik}S_{kk}V^\\dagger_{kj}$\n",
    "\n",
    "$[M]\\approx[\\tilde{M}]~by~approximate~(small~elements~\\rightarrow0~in~S)=0$"
   ]
  },
  {
   "cell_type": "markdown",
   "metadata": {},
   "source": []
  },
  {
   "cell_type": "markdown",
   "metadata": {},
   "source": [
    "$\\left|\\psi\\right\\rangle=\\sum_{s_1\\dots s_n}\\psi_{s_1\\dots s_n}\\left|s_1\\dots s_n\\right\\rangle\n",
    "=\\sum_{s_1\\dots s_n}\\psi_{s_1\\dots s_n}\\left|s_1\\dots s_s\\right\\rangle\\left|s_s\\dots s_n\\right\\rangle\n",
    "=\\sum^{2^4}_{i,j=1}\\psi_{i,j}\\left|i\\right\\rangle\\left|j\\right\\rangle\n",
    "= \\sum_{i,j}\\sum_kA_{i,k}B_{k,j}\\left|i\\right\\rangle\\left|j\\right\\rangle\n",
    "$\n",
    "\n",
    "$[\\psi]_{i,j}\\rightarrow(SVD)~[A][B]=\\sum_kA_{ik}B_{kj}\n",
    "$\n",
    "\n",
    "$A_{ik}\\left|i\\right\\rangle=A_{(s_1,s_2,s_3,s_4)}\n",
    "$\n"
   ]
  }
 ],
 "metadata": {
  "hide_input": false,
  "kernelspec": {
   "display_name": "Python 3",
   "language": "python",
   "name": "python3"
  },
  "language_info": {
   "codemirror_mode": {
    "name": "ipython",
    "version": 3
   },
   "file_extension": ".py",
   "mimetype": "text/x-python",
   "name": "python",
   "nbconvert_exporter": "python",
   "pygments_lexer": "ipython3",
   "version": "3.7.1"
  },
  "toc": {
   "base_numbering": 1,
   "nav_menu": {},
   "number_sections": false,
   "sideBar": true,
   "skip_h1_title": true,
   "title_cell": "Table of Contents",
   "title_sidebar": "Contents",
   "toc_cell": false,
   "toc_position": {},
   "toc_section_display": true,
   "toc_window_display": false
  },
  "varInspector": {
   "cols": {
    "lenName": 16,
    "lenType": 16,
    "lenVar": 40
   },
   "kernels_config": {
    "python": {
     "delete_cmd_postfix": "",
     "delete_cmd_prefix": "del ",
     "library": "var_list.py",
     "varRefreshCmd": "print(var_dic_list())"
    },
    "r": {
     "delete_cmd_postfix": ") ",
     "delete_cmd_prefix": "rm(",
     "library": "var_list.r",
     "varRefreshCmd": "cat(var_dic_list()) "
    }
   },
   "types_to_exclude": [
    "module",
    "function",
    "builtin_function_or_method",
    "instance",
    "_Feature"
   ],
   "window_display": false
  }
 },
 "nbformat": 4,
 "nbformat_minor": 2
}
