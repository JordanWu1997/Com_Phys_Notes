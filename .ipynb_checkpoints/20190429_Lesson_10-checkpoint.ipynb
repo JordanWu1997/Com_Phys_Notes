{
 "cells": [
  {
   "cell_type": "markdown",
   "metadata": {},
   "source": [
    "# Tensor Network Exercise"
   ]
  },
  {
   "cell_type": "code",
   "execution_count": 13,
   "metadata": {
    "ExecuteTime": {
     "end_time": "2019-04-29T07:36:34.602602Z",
     "start_time": "2019-04-29T07:36:34.599409Z"
    }
   },
   "outputs": [],
   "source": [
    "import Tor10\n",
    "import numpy as np\n",
    "import torch\n",
    "import copy"
   ]
  },
  {
   "cell_type": "markdown",
   "metadata": {},
   "source": [
    "## Bond"
   ]
  },
  {
   "cell_type": "code",
   "execution_count": 22,
   "metadata": {
    "ExecuteTime": {
     "end_time": "2019-04-29T07:47:47.235985Z",
     "start_time": "2019-04-29T07:47:47.222581Z"
    }
   },
   "outputs": [
    {
     "name": "stdout",
     "output_type": "stream",
     "text": [
      "Dim = 2 |\n",
      "REGULAR :\n",
      "\n"
     ]
    }
   ],
   "source": [
    "# Note: bd is now dim=2\n",
    "bd = Tor10.Bond(2)\n",
    "print(bd) "
   ]
  },
  {
   "cell_type": "markdown",
   "metadata": {},
   "source": [
    "## Rank-1 Tensor"
   ]
  },
  {
   "cell_type": "code",
   "execution_count": 26,
   "metadata": {
    "ExecuteTime": {
     "end_time": "2019-04-29T07:49:52.185584Z",
     "start_time": "2019-04-29T07:49:52.169144Z"
    }
   },
   "outputs": [
    {
     "name": "stdout",
     "output_type": "stream",
     "text": [
      "Tensor name: |+>\n",
      "is_diag    : False\n",
      "tensor([1., 0.], dtype=torch.float64)\n",
      "\n",
      "tensor Name : |+>\n",
      "tensor Rank : 1\n",
      "on device   : cpu\n",
      "is_diag     : False\n",
      "        ---------------     \n",
      "        |             |     \n",
      "    0 __| 2           |      \n",
      "        |             |     \n",
      "        ---------------     \n",
      "lbl:0 Dim = 2 |\n",
      "REGULAR :\n",
      "\n"
     ]
    }
   ],
   "source": [
    "# |+>\n",
    "up_ket = Tor10.UniTensor(bonds=[bd], N_inbond=1, name=\"|+>\") # N_inbond: 0->bra; 1->ket\n",
    "up_ket.SetElem([1, 0]) # SetElem: Set up element in bra/ket vector\n",
    "print(up_ket) # issue: should display as column.\n",
    "up_ket.Print_diagram()"
   ]
  },
  {
   "cell_type": "code",
   "execution_count": 27,
   "metadata": {
    "ExecuteTime": {
     "end_time": "2019-04-29T07:50:19.817122Z",
     "start_time": "2019-04-29T07:50:19.807044Z"
    }
   },
   "outputs": [
    {
     "name": "stdout",
     "output_type": "stream",
     "text": [
      "Tensor name: |->\n",
      "is_diag    : False\n",
      "tensor([0., 1.], dtype=torch.float64)\n",
      "\n",
      "tensor Name : |->\n",
      "tensor Rank : 1\n",
      "on device   : cpu\n",
      "is_diag     : False\n",
      "        ---------------     \n",
      "        |             |     \n",
      "    0 __| 2           |      \n",
      "        |             |     \n",
      "        ---------------     \n",
      "lbl:0 Dim = 2 |\n",
      "REGULAR :\n",
      "\n"
     ]
    }
   ],
   "source": [
    "dn_ket = Tor10.UniTensor(bonds=[bd], N_inbond=1, name=\"|->\")\n",
    "dn_ket.SetElem([0, 1])\n",
    "print(dn_ket) # issue: should display as column.\n",
    "dn_ket.Print_diagram()"
   ]
  },
  {
   "cell_type": "code",
   "execution_count": 28,
   "metadata": {
    "ExecuteTime": {
     "end_time": "2019-04-29T07:52:23.081453Z",
     "start_time": "2019-04-29T07:52:23.069026Z"
    }
   },
   "outputs": [
    {
     "name": "stdout",
     "output_type": "stream",
     "text": [
      "Tensor name: <+|\n",
      "is_diag    : False\n",
      "tensor([1., 0.], dtype=torch.float64)\n",
      "\n",
      "tensor Name : <+|\n",
      "tensor Rank : 1\n",
      "on device   : cpu\n",
      "is_diag     : False\n",
      "        ---------------     \n",
      "        |             |     \n",
      "        |           2 |__ 0  \n",
      "        |             |     \n",
      "        ---------------     \n",
      "lbl:0 Dim = 2 |\n",
      "REGULAR :\n",
      "\n"
     ]
    }
   ],
   "source": [
    "up_bra = Tor10.UniTensor(bonds=[bd], N_inbond=0, name=\"<+|\")\n",
    "up_bra.SetElem([1, 0])\n",
    "print(up_bra) # issue: should display as column.\n",
    "up_bra.Print_diagram()"
   ]
  },
  {
   "cell_type": "code",
   "execution_count": 29,
   "metadata": {
    "ExecuteTime": {
     "end_time": "2019-04-29T07:52:26.829812Z",
     "start_time": "2019-04-29T07:52:26.820063Z"
    }
   },
   "outputs": [
    {
     "name": "stdout",
     "output_type": "stream",
     "text": [
      "Tensor name: <-|\n",
      "is_diag    : False\n",
      "tensor([0., 1.], dtype=torch.float64)\n",
      "\n",
      "tensor Name : <-|\n",
      "tensor Rank : 1\n",
      "on device   : cpu\n",
      "is_diag     : False\n",
      "        ---------------     \n",
      "        |             |     \n",
      "        |           2 |__ 0  \n",
      "        |             |     \n",
      "        ---------------     \n",
      "lbl:0 Dim = 2 |\n",
      "REGULAR :\n",
      "\n"
     ]
    }
   ],
   "source": [
    "dn_bra = Tor10.UniTensor(bonds=[bd], N_inbond=0, name=\"<-|\")\n",
    "dn_bra.SetElem([0, 1])\n",
    "print(dn_bra) # issue: should display as column.\n",
    "dn_bra.Print_diagram()"
   ]
  },
  {
   "cell_type": "markdown",
   "metadata": {},
   "source": [
    "## Orthogonality"
   ]
  },
  {
   "cell_type": "markdown",
   "metadata": {},
   "source": [
    "### braket"
   ]
  },
  {
   "cell_type": "code",
   "execution_count": 33,
   "metadata": {
    "ExecuteTime": {
     "end_time": "2019-04-29T07:58:36.200598Z",
     "start_time": "2019-04-29T07:58:36.188578Z"
    }
   },
   "outputs": [
    {
     "name": "stdout",
     "output_type": "stream",
     "text": [
      "1.0\n",
      "0.0\n",
      "0.0\n",
      "1.0\n"
     ]
    }
   ],
   "source": [
    "for bra in [up_bra, dn_bra]:\n",
    "    for ket in [up_ket, dn_ket]:\n",
    "        braket = Tor10.Contract(bra, ket)\n",
    "        print(braket.item())"
   ]
  },
  {
   "cell_type": "markdown",
   "metadata": {},
   "source": [
    "### ketbra"
   ]
  },
  {
   "cell_type": "code",
   "execution_count": 34,
   "metadata": {
    "ExecuteTime": {
     "end_time": "2019-04-29T08:06:08.669300Z",
     "start_time": "2019-04-29T08:06:08.655785Z"
    }
   },
   "outputs": [
    {
     "name": "stdout",
     "output_type": "stream",
     "text": [
      "tensor Name : |+>\n",
      "tensor Rank : 1\n",
      "on device   : cpu\n",
      "is_diag     : False\n",
      "        ---------------     \n",
      "        |             |     \n",
      "    0 __| 2           |      \n",
      "        |             |     \n",
      "        ---------------     \n",
      "lbl:0 Dim = 2 |\n",
      "REGULAR :\n",
      "\n",
      "None\n",
      "tensor Name : <-|\n",
      "tensor Rank : 1\n",
      "on device   : cpu\n",
      "is_diag     : False\n",
      "        ---------------     \n",
      "        |             |     \n",
      "        |           2 |__ 1  \n",
      "        |             |     \n",
      "        ---------------     \n",
      "lbl:1 Dim = 2 |\n",
      "REGULAR :\n",
      "\n",
      "None\n",
      "Tensor name: \n",
      "is_diag    : False\n",
      "tensor([[0., 1.],\n",
      "        [0., 0.]], dtype=torch.float64)\n",
      "\n",
      "tensor Name : \n",
      "tensor Rank : 2\n",
      "on device   : cpu\n",
      "is_diag     : False\n",
      "        ---------------     \n",
      "        |             |     \n",
      "    0 __| 2         2 |__ 1  \n",
      "        |             |     \n",
      "        ---------------     \n",
      "lbl:0 Dim = 2 |\n",
      "REGULAR :\n",
      "\n",
      "lbl:1 Dim = 2 |\n",
      "REGULAR :\n",
      "\n"
     ]
    }
   ],
   "source": [
    "up_ket.SetLabels([0])\n",
    "dn_bra.SetLabels([1])\n",
    "print(up_ket.Print_diagram())\n",
    "print(dn_bra.Print_diagram())\n",
    "\n",
    "ketbra = Tor10.Contract(up_ket, dn_bra)\n",
    "print(ketbra)\n",
    "ketbra.Print_diagram()"
   ]
  },
  {
   "cell_type": "code",
   "execution_count": 35,
   "metadata": {
    "ExecuteTime": {
     "end_time": "2019-04-29T08:06:30.714325Z",
     "start_time": "2019-04-29T08:06:30.697269Z"
    }
   },
   "outputs": [
    {
     "name": "stdout",
     "output_type": "stream",
     "text": [
      "Tensor name: \n",
      "is_diag    : False\n",
      "tensor([[1., 0.],\n",
      "        [0., 0.]], dtype=torch.float64)\n",
      "\n",
      "Tensor name: \n",
      "is_diag    : False\n",
      "tensor([[0., 1.],\n",
      "        [0., 0.]], dtype=torch.float64)\n",
      "\n",
      "Tensor name: \n",
      "is_diag    : False\n",
      "tensor([[0., 0.],\n",
      "        [1., 0.]], dtype=torch.float64)\n",
      "\n",
      "Tensor name: \n",
      "is_diag    : False\n",
      "tensor([[0., 0.],\n",
      "        [0., 1.]], dtype=torch.float64)\n",
      "\n"
     ]
    }
   ],
   "source": [
    "for ket in [up_ket, dn_ket]:\n",
    "    for bra in [up_bra, dn_bra]:\n",
    "        ket.SetLabels([0])\n",
    "        bra.SetLabels([1])\n",
    "        ketbra = Tor10.Contract(ket, bra)\n",
    "        print(ketbra)"
   ]
  },
  {
   "cell_type": "code",
   "execution_count": null,
   "metadata": {},
   "outputs": [],
   "source": []
  }
 ],
 "metadata": {
  "hide_input": false,
  "kernelspec": {
   "display_name": "Python 3",
   "language": "python",
   "name": "python3"
  },
  "language_info": {
   "codemirror_mode": {
    "name": "ipython",
    "version": 3
   },
   "file_extension": ".py",
   "mimetype": "text/x-python",
   "name": "python",
   "nbconvert_exporter": "python",
   "pygments_lexer": "ipython3",
   "version": "3.7.1"
  },
  "toc": {
   "base_numbering": 1,
   "nav_menu": {},
   "number_sections": true,
   "sideBar": true,
   "skip_h1_title": true,
   "title_cell": "Table of Contents",
   "title_sidebar": "Contents",
   "toc_cell": false,
   "toc_position": {},
   "toc_section_display": true,
   "toc_window_display": false
  },
  "varInspector": {
   "cols": {
    "lenName": 16,
    "lenType": 16,
    "lenVar": 40
   },
   "kernels_config": {
    "python": {
     "delete_cmd_postfix": "",
     "delete_cmd_prefix": "del ",
     "library": "var_list.py",
     "varRefreshCmd": "print(var_dic_list())"
    },
    "r": {
     "delete_cmd_postfix": ") ",
     "delete_cmd_prefix": "rm(",
     "library": "var_list.r",
     "varRefreshCmd": "cat(var_dic_list()) "
    }
   },
   "types_to_exclude": [
    "module",
    "function",
    "builtin_function_or_method",
    "instance",
    "_Feature"
   ],
   "window_display": false
  }
 },
 "nbformat": 4,
 "nbformat_minor": 2
}
